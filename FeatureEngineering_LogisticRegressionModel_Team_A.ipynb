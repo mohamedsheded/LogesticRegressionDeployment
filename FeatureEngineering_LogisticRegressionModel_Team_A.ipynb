{
 "cells": [
  {
   "cell_type": "markdown",
   "id": "f99532fc",
   "metadata": {},
   "source": [
    "# Feature Engineering and Model Building(Logistic Regression)"
   ]
  },
  {
   "cell_type": "code",
   "execution_count": 1,
   "id": "2ce28dcc",
   "metadata": {},
   "outputs": [],
   "source": [
    "import pandas as pd\n",
    "import numpy as np\n",
    "import seaborn as sns\n",
    "import matplotlib.pyplot as plt\n",
    "from sklearn.preprocessing import MinMaxScaler\n",
    "%matplotlib inline\n",
    "#!pip install -U feature-engine\n",
    "from feature_engine.encoding import OrdinalEncoder as oe\n",
    "from feature_engine.encoding import OneHotEncoder as ohe\n",
    "import warnings\n",
    "warnings.filterwarnings('ignore')"
   ]
  },
  {
   "cell_type": "markdown",
   "id": "a0a1e260",
   "metadata": {},
   "source": [
    "## Handling Missing Values"
   ]
  },
  {
   "cell_type": "code",
   "execution_count": 2,
   "id": "b78804f5",
   "metadata": {},
   "outputs": [],
   "source": [
    "loans_dataset = pd.read_csv(\"ProsperLoanDataPostJuly.csv\")"
   ]
  },
  {
   "cell_type": "code",
   "execution_count": 3,
   "id": "64fc7b0c",
   "metadata": {},
   "outputs": [
    {
     "data": {
      "text/html": [
       "<div>\n",
       "<style scoped>\n",
       "    .dataframe tbody tr th:only-of-type {\n",
       "        vertical-align: middle;\n",
       "    }\n",
       "\n",
       "    .dataframe tbody tr th {\n",
       "        vertical-align: top;\n",
       "    }\n",
       "\n",
       "    .dataframe thead th {\n",
       "        text-align: right;\n",
       "    }\n",
       "</style>\n",
       "<table border=\"1\" class=\"dataframe\">\n",
       "  <thead>\n",
       "    <tr style=\"text-align: right;\">\n",
       "      <th></th>\n",
       "      <th>Unnamed: 0</th>\n",
       "      <th>ListingKey</th>\n",
       "      <th>ListingNumber</th>\n",
       "      <th>ListingCreationDate</th>\n",
       "      <th>Term</th>\n",
       "      <th>LoanStatus</th>\n",
       "      <th>BorrowerAPR</th>\n",
       "      <th>BorrowerRate</th>\n",
       "      <th>LenderYield</th>\n",
       "      <th>EstimatedEffectiveYield</th>\n",
       "      <th>...</th>\n",
       "      <th>LP_ServiceFees</th>\n",
       "      <th>LP_CollectionFees</th>\n",
       "      <th>LP_GrossPrincipalLoss</th>\n",
       "      <th>LP_NetPrincipalLoss</th>\n",
       "      <th>LP_NonPrincipalRecoverypayments</th>\n",
       "      <th>PercentFunded</th>\n",
       "      <th>Recommendations</th>\n",
       "      <th>InvestmentFromFriendsCount</th>\n",
       "      <th>InvestmentFromFriendsAmount</th>\n",
       "      <th>Investors</th>\n",
       "    </tr>\n",
       "  </thead>\n",
       "  <tbody>\n",
       "    <tr>\n",
       "      <th>0</th>\n",
       "      <td>1</td>\n",
       "      <td>10273602499503308B223C1</td>\n",
       "      <td>1209647</td>\n",
       "      <td>2014-02-27 08:28:07</td>\n",
       "      <td>36</td>\n",
       "      <td>Current</td>\n",
       "      <td>0.12016</td>\n",
       "      <td>0.0920</td>\n",
       "      <td>0.0820</td>\n",
       "      <td>0.07960</td>\n",
       "      <td>...</td>\n",
       "      <td>0.00</td>\n",
       "      <td>0.0</td>\n",
       "      <td>0.0</td>\n",
       "      <td>0.0</td>\n",
       "      <td>0.0</td>\n",
       "      <td>1.0</td>\n",
       "      <td>0</td>\n",
       "      <td>0</td>\n",
       "      <td>0.0</td>\n",
       "      <td>1</td>\n",
       "    </tr>\n",
       "    <tr>\n",
       "      <th>1</th>\n",
       "      <td>3</td>\n",
       "      <td>0EF5356002482715299901A</td>\n",
       "      <td>658116</td>\n",
       "      <td>2012-10-22 11:02:35</td>\n",
       "      <td>36</td>\n",
       "      <td>Current</td>\n",
       "      <td>0.12528</td>\n",
       "      <td>0.0974</td>\n",
       "      <td>0.0874</td>\n",
       "      <td>0.08490</td>\n",
       "      <td>...</td>\n",
       "      <td>-108.01</td>\n",
       "      <td>0.0</td>\n",
       "      <td>0.0</td>\n",
       "      <td>0.0</td>\n",
       "      <td>0.0</td>\n",
       "      <td>1.0</td>\n",
       "      <td>0</td>\n",
       "      <td>0</td>\n",
       "      <td>0.0</td>\n",
       "      <td>158</td>\n",
       "    </tr>\n",
       "    <tr>\n",
       "      <th>2</th>\n",
       "      <td>4</td>\n",
       "      <td>0F023589499656230C5E3E2</td>\n",
       "      <td>909464</td>\n",
       "      <td>2013-09-14 18:38:39</td>\n",
       "      <td>36</td>\n",
       "      <td>Current</td>\n",
       "      <td>0.24614</td>\n",
       "      <td>0.2085</td>\n",
       "      <td>0.1985</td>\n",
       "      <td>0.18316</td>\n",
       "      <td>...</td>\n",
       "      <td>-60.27</td>\n",
       "      <td>0.0</td>\n",
       "      <td>0.0</td>\n",
       "      <td>0.0</td>\n",
       "      <td>0.0</td>\n",
       "      <td>1.0</td>\n",
       "      <td>0</td>\n",
       "      <td>0</td>\n",
       "      <td>0.0</td>\n",
       "      <td>20</td>\n",
       "    </tr>\n",
       "    <tr>\n",
       "      <th>3</th>\n",
       "      <td>5</td>\n",
       "      <td>0F05359734824199381F61D</td>\n",
       "      <td>1074836</td>\n",
       "      <td>2013-12-14 08:26:37</td>\n",
       "      <td>60</td>\n",
       "      <td>Current</td>\n",
       "      <td>0.15425</td>\n",
       "      <td>0.1314</td>\n",
       "      <td>0.1214</td>\n",
       "      <td>0.11567</td>\n",
       "      <td>...</td>\n",
       "      <td>-25.33</td>\n",
       "      <td>0.0</td>\n",
       "      <td>0.0</td>\n",
       "      <td>0.0</td>\n",
       "      <td>0.0</td>\n",
       "      <td>1.0</td>\n",
       "      <td>0</td>\n",
       "      <td>0</td>\n",
       "      <td>0.0</td>\n",
       "      <td>1</td>\n",
       "    </tr>\n",
       "    <tr>\n",
       "      <th>4</th>\n",
       "      <td>6</td>\n",
       "      <td>0F0A3576754255009D63151</td>\n",
       "      <td>750899</td>\n",
       "      <td>2013-04-12 09:52:56</td>\n",
       "      <td>36</td>\n",
       "      <td>Current</td>\n",
       "      <td>0.31032</td>\n",
       "      <td>0.2712</td>\n",
       "      <td>0.2612</td>\n",
       "      <td>0.23820</td>\n",
       "      <td>...</td>\n",
       "      <td>-22.95</td>\n",
       "      <td>0.0</td>\n",
       "      <td>0.0</td>\n",
       "      <td>0.0</td>\n",
       "      <td>0.0</td>\n",
       "      <td>1.0</td>\n",
       "      <td>0</td>\n",
       "      <td>0</td>\n",
       "      <td>0.0</td>\n",
       "      <td>1</td>\n",
       "    </tr>\n",
       "  </tbody>\n",
       "</table>\n",
       "<p>5 rows × 70 columns</p>\n",
       "</div>"
      ],
      "text/plain": [
       "   Unnamed: 0               ListingKey  ListingNumber  ListingCreationDate  \\\n",
       "0           1  10273602499503308B223C1        1209647  2014-02-27 08:28:07   \n",
       "1           3  0EF5356002482715299901A         658116  2012-10-22 11:02:35   \n",
       "2           4  0F023589499656230C5E3E2         909464  2013-09-14 18:38:39   \n",
       "3           5  0F05359734824199381F61D        1074836  2013-12-14 08:26:37   \n",
       "4           6  0F0A3576754255009D63151         750899  2013-04-12 09:52:56   \n",
       "\n",
       "   Term LoanStatus  BorrowerAPR  BorrowerRate  LenderYield  \\\n",
       "0    36    Current      0.12016        0.0920       0.0820   \n",
       "1    36    Current      0.12528        0.0974       0.0874   \n",
       "2    36    Current      0.24614        0.2085       0.1985   \n",
       "3    60    Current      0.15425        0.1314       0.1214   \n",
       "4    36    Current      0.31032        0.2712       0.2612   \n",
       "\n",
       "   EstimatedEffectiveYield  ...  LP_ServiceFees  LP_CollectionFees  \\\n",
       "0                  0.07960  ...            0.00                0.0   \n",
       "1                  0.08490  ...         -108.01                0.0   \n",
       "2                  0.18316  ...          -60.27                0.0   \n",
       "3                  0.11567  ...          -25.33                0.0   \n",
       "4                  0.23820  ...          -22.95                0.0   \n",
       "\n",
       "   LP_GrossPrincipalLoss LP_NetPrincipalLoss  LP_NonPrincipalRecoverypayments  \\\n",
       "0                    0.0                 0.0                              0.0   \n",
       "1                    0.0                 0.0                              0.0   \n",
       "2                    0.0                 0.0                              0.0   \n",
       "3                    0.0                 0.0                              0.0   \n",
       "4                    0.0                 0.0                              0.0   \n",
       "\n",
       "   PercentFunded Recommendations InvestmentFromFriendsCount  \\\n",
       "0            1.0               0                          0   \n",
       "1            1.0               0                          0   \n",
       "2            1.0               0                          0   \n",
       "3            1.0               0                          0   \n",
       "4            1.0               0                          0   \n",
       "\n",
       "  InvestmentFromFriendsAmount  Investors  \n",
       "0                         0.0          1  \n",
       "1                         0.0        158  \n",
       "2                         0.0         20  \n",
       "3                         0.0          1  \n",
       "4                         0.0          1  \n",
       "\n",
       "[5 rows x 70 columns]"
      ]
     },
     "execution_count": 3,
     "metadata": {},
     "output_type": "execute_result"
    }
   ],
   "source": [
    "loans_dataset.head()"
   ]
  },
  {
   "cell_type": "code",
   "execution_count": 4,
   "id": "8d4358e9",
   "metadata": {},
   "outputs": [
    {
     "name": "stdout",
     "output_type": "stream",
     "text": [
      "Missing values in data 8633\n"
     ]
    }
   ],
   "source": [
    "missing_values_count = loans_dataset.isnull().sum()\n",
    "print(\"Missing values in data\",missing_values_count.sum())"
   ]
  },
  {
   "cell_type": "code",
   "execution_count": 5,
   "id": "91e9ea9a",
   "metadata": {},
   "outputs": [
    {
     "data": {
      "text/plain": [
       "<AxesSubplot:>"
      ]
     },
     "execution_count": 5,
     "metadata": {},
     "output_type": "execute_result"
    },
    {
     "data": {
      "image/png": "[encoded data removed]",
      "text/plain": [
       "<Figure size 1152x720 with 1 Axes>"
      ]
     },
     "metadata": {
      "needs_background": "light"
     },
     "output_type": "display_data"
    }
   ],
   "source": [
    "#visualising missing values\n",
    "plt.figure(figsize=(16,10))\n",
    "sns.heatmap(loans_dataset.isnull(),cbar=False,cmap='viridis')"
   ]
  },
  {
   "cell_type": "code",
   "execution_count": 6,
   "id": "f4110944",
   "metadata": {},
   "outputs": [
    {
     "name": "stdout",
     "output_type": "stream",
     "text": [
      "<class 'pandas.core.frame.DataFrame'>\n",
      "RangeIndex: 84672 entries, 0 to 84671\n",
      "Data columns (total 70 columns):\n",
      " #   Column                              Non-Null Count  Dtype  \n",
      "---  ------                              --------------  -----  \n",
      " 0   Unnamed: 0                          84672 non-null  int64  \n",
      " 1   ListingKey                          84672 non-null  object \n",
      " 2   ListingNumber                       84672 non-null  int64  \n",
      " 3   ListingCreationDate                 84672 non-null  object \n",
      " 4   Term                                84672 non-null  int64  \n",
      " 5   LoanStatus                          84672 non-null  object \n",
      " 6   BorrowerAPR                         84672 non-null  float64\n",
      " 7   BorrowerRate                        84672 non-null  float64\n",
      " 8   LenderYield                         84672 non-null  float64\n",
      " 9   EstimatedEffectiveYield             84672 non-null  float64\n",
      " 10  EstimatedLoss                       84672 non-null  float64\n",
      " 11  EstimatedReturn                     84672 non-null  float64\n",
      " 12  ProsperRating (numeric)             84672 non-null  float64\n",
      " 13  ProsperRating (Alpha)               84672 non-null  object \n",
      " 14  ProsperScore                        84672 non-null  float64\n",
      " 15  ListingCategory (numeric)           84672 non-null  int64  \n",
      " 16  BorrowerState                       84672 non-null  object \n",
      " 17  Occupation                          83339 non-null  object \n",
      " 18  EmploymentStatus                    84672 non-null  object \n",
      " 19  EmploymentStatusDuration            84653 non-null  float64\n",
      " 20  IsBorrowerHomeowner                 84672 non-null  bool   \n",
      " 21  CurrentlyInGroup                    84672 non-null  bool   \n",
      " 22  DateCreditPulled                    84672 non-null  object \n",
      " 23  CreditScoreRangeLower               84672 non-null  float64\n",
      " 24  CreditScoreRangeUpper               84672 non-null  float64\n",
      " 25  FirstRecordedCreditLine             84672 non-null  object \n",
      " 26  CurrentCreditLines                  84672 non-null  float64\n",
      " 27  OpenCreditLines                     84672 non-null  float64\n",
      " 28  TotalCreditLinespast7years          84672 non-null  float64\n",
      " 29  OpenRevolvingAccounts               84672 non-null  int64  \n",
      " 30  OpenRevolvingMonthlyPayment         84672 non-null  float64\n",
      " 31  InquiriesLast6Months                84672 non-null  float64\n",
      " 32  TotalInquiries                      84672 non-null  float64\n",
      " 33  CurrentDelinquencies                84672 non-null  float64\n",
      " 34  AmountDelinquent                    84672 non-null  float64\n",
      " 35  DelinquenciesLast7Years             84672 non-null  float64\n",
      " 36  PublicRecordsLast10Years            84672 non-null  float64\n",
      " 37  PublicRecordsLast12Months           84672 non-null  float64\n",
      " 38  RevolvingCreditBalance              84672 non-null  float64\n",
      " 39  BankcardUtilization                 84672 non-null  float64\n",
      " 40  AvailableBankcardCredit             84672 non-null  float64\n",
      " 41  TotalTrades                         84672 non-null  float64\n",
      " 42  TradesNeverDelinquent (percentage)  84672 non-null  float64\n",
      " 43  TradesOpenedLast6Months             84672 non-null  float64\n",
      " 44  DebtToIncomeRatio                   77391 non-null  float64\n",
      " 45  IncomeRange                         84672 non-null  object \n",
      " 46  IncomeVerifiable                    84672 non-null  bool   \n",
      " 47  StatedMonthlyIncome                 84672 non-null  float64\n",
      " 48  LoanKey                             84672 non-null  object \n",
      " 49  LoanCurrentDaysDelinquent           84672 non-null  int64  \n",
      " 50  LoanMonthsSinceOrigination          84672 non-null  int64  \n",
      " 51  LoanNumber                          84672 non-null  int64  \n",
      " 52  LoanOriginalAmount                  84672 non-null  int64  \n",
      " 53  LoanOriginationDate                 84672 non-null  object \n",
      " 54  LoanOriginationQuarter              84672 non-null  object \n",
      " 55  MemberKey                           84672 non-null  object \n",
      " 56  MonthlyLoanPayment                  84672 non-null  float64\n",
      " 57  LP_CustomerPayments                 84672 non-null  float64\n",
      " 58  LP_CustomerPrincipalPayments        84672 non-null  float64\n",
      " 59  LP_InterestandFees                  84672 non-null  float64\n",
      " 60  LP_ServiceFees                      84672 non-null  float64\n",
      " 61  LP_CollectionFees                   84672 non-null  float64\n",
      " 62  LP_GrossPrincipalLoss               84672 non-null  float64\n",
      " 63  LP_NetPrincipalLoss                 84672 non-null  float64\n",
      " 64  LP_NonPrincipalRecoverypayments     84672 non-null  float64\n",
      " 65  PercentFunded                       84672 non-null  float64\n",
      " 66  Recommendations                     84672 non-null  int64  \n",
      " 67  InvestmentFromFriendsCount          84672 non-null  int64  \n",
      " 68  InvestmentFromFriendsAmount         84672 non-null  float64\n",
      " 69  Investors                           84672 non-null  int64  \n",
      "dtypes: bool(3), float64(41), int64(12), object(14)\n",
      "memory usage: 43.5+ MB\n"
     ]
    }
   ],
   "source": [
    "loans_dataset.info()"
   ]
  },
  {
   "cell_type": "code",
   "execution_count": 7,
   "id": "a322df0d",
   "metadata": {},
   "outputs": [],
   "source": [
    "loans_dataset['DebtToIncomeRatio'].fillna(loans_dataset['DebtToIncomeRatio'].mean(), inplace = True)"
   ]
  },
  {
   "cell_type": "code",
   "execution_count": 8,
   "id": "bbc475d2",
   "metadata": {},
   "outputs": [
    {
     "name": "stdout",
     "output_type": "stream",
     "text": [
      "Missing values in data 1352\n"
     ]
    }
   ],
   "source": [
    "missing_values_count = loans_dataset.isnull().sum()\n",
    "print(\"Missing values in data\",missing_values_count.sum())"
   ]
  },
  {
   "cell_type": "code",
   "execution_count": 9,
   "id": "fa4acb1b",
   "metadata": {},
   "outputs": [
    {
     "data": {
      "text/plain": [
       "<AxesSubplot:>"
      ]
     },
     "execution_count": 9,
     "metadata": {},
     "output_type": "execute_result"
    },
    {
     "data": {
      "image/png": "[encoded data removed]",
      "text/plain": [
       "<Figure size 1152x720 with 1 Axes>"
      ]
     },
     "metadata": {
      "needs_background": "light"
     },
     "output_type": "display_data"
    }
   ],
   "source": [
    "#visualising missing values\n",
    "plt.figure(figsize=(16,10))\n",
    "sns.heatmap(loans_dataset.isnull(),cbar=False,cmap='viridis')"
   ]
  },
  {
   "cell_type": "code",
   "execution_count": 10,
   "id": "b8d199d2",
   "metadata": {},
   "outputs": [],
   "source": [
    "loans_dataset = loans_dataset.dropna()"
   ]
  },
  {
   "cell_type": "markdown",
   "id": "75a0637d",
   "metadata": {},
   "source": [
    "## Feature Engineering for Numerical Variables"
   ]
  },
  {
   "cell_type": "code",
   "execution_count": 11,
   "id": "1babe78e",
   "metadata": {},
   "outputs": [],
   "source": [
    "loans_dataset = loans_dataset.drop(columns = ['Unnamed: 0'])"
   ]
  },
  {
   "cell_type": "code",
   "execution_count": 12,
   "id": "ced93dae",
   "metadata": {},
   "outputs": [
    {
     "name": "stdout",
     "output_type": "stream",
     "text": [
      "[]\n"
     ]
    }
   ],
   "source": [
    "cols_with_missed=loans_dataset.columns[loans_dataset.isnull().any()]\n",
    "num_missed=[col for col in loans_dataset[cols_with_missed].columns if loans_dataset[col].dtypes in ['int64','int32','float64','float32'] ]\n",
    "print(num_missed)"
   ]
  },
  {
   "cell_type": "code",
   "execution_count": 13,
   "id": "3bf5e7b5",
   "metadata": {},
   "outputs": [
    {
     "name": "stdout",
     "output_type": "stream",
     "text": [
      "['ListingNumber', 'Term', 'BorrowerAPR', 'BorrowerRate', 'LenderYield', 'EstimatedEffectiveYield', 'EstimatedLoss', 'EstimatedReturn', 'ProsperRating (numeric)', 'ProsperScore', 'ListingCategory (numeric)', 'EmploymentStatusDuration', 'CreditScoreRangeLower', 'CreditScoreRangeUpper', 'CurrentCreditLines', 'OpenCreditLines', 'TotalCreditLinespast7years', 'OpenRevolvingAccounts', 'OpenRevolvingMonthlyPayment', 'InquiriesLast6Months', 'TotalInquiries', 'CurrentDelinquencies', 'AmountDelinquent', 'DelinquenciesLast7Years', 'PublicRecordsLast10Years', 'PublicRecordsLast12Months', 'RevolvingCreditBalance', 'BankcardUtilization', 'AvailableBankcardCredit', 'TotalTrades', 'TradesNeverDelinquent (percentage)', 'TradesOpenedLast6Months', 'DebtToIncomeRatio', 'StatedMonthlyIncome', 'LoanCurrentDaysDelinquent', 'LoanMonthsSinceOrigination', 'LoanNumber', 'LoanOriginalAmount', 'MonthlyLoanPayment', 'LP_CustomerPayments', 'LP_CustomerPrincipalPayments', 'LP_InterestandFees', 'LP_ServiceFees', 'LP_CollectionFees', 'LP_GrossPrincipalLoss', 'LP_NetPrincipalLoss', 'LP_NonPrincipalRecoverypayments', 'PercentFunded', 'Recommendations', 'InvestmentFromFriendsCount', 'InvestmentFromFriendsAmount', 'Investors']\n"
     ]
    }
   ],
   "source": [
    "num_var=[col for col in loans_dataset.columns if loans_dataset[col].dtypes in ['int64','int32','float64','float32'] ]\n",
    "print(num_var)"
   ]
  },
  {
   "cell_type": "code",
   "execution_count": 14,
   "id": "985ca7b0",
   "metadata": {},
   "outputs": [],
   "source": [
    "#putting all numerical values in CSV file\n",
    "#to be easier to decide which feature will be scaled ..\n",
    "\n",
    "loans_dataset[num_var].to_csv('num.csv')"
   ]
  },
  {
   "cell_type": "code",
   "execution_count": 15,
   "id": "78cc21a8",
   "metadata": {},
   "outputs": [
    {
     "name": "stdout",
     "output_type": "stream",
     "text": [
      "EmploymentStatusDuration: 0.0 to 755.0\n"
     ]
    }
   ],
   "source": [
    "employ_norm = loans_dataset[\"EmploymentStatusDuration\"]\n",
    "print(f'EmploymentStatusDuration: {employ_norm.min()} to {employ_norm.max()}')"
   ]
  },
  {
   "cell_type": "code",
   "execution_count": 16,
   "id": "573f2911",
   "metadata": {},
   "outputs": [
    {
     "data": {
      "text/plain": [
       "<AxesSubplot:>"
      ]
     },
     "execution_count": 16,
     "metadata": {},
     "output_type": "execute_result"
    },
    {
     "data": {
      "image/png": "[encoded data removed]",
      "text/plain": [
       "<Figure size 576x360 with 1 Axes>"
      ]
     },
     "metadata": {
      "needs_background": "light"
     },
     "output_type": "display_data"
    }
   ],
   "source": [
    "from sklearn.preprocessing import StandardScaler\n",
    "dfscaled = loans_dataset.copy()\n",
    "column = 'EmploymentStatusDuration'\n",
    "#dfscaled[column]=StandardScaler().fit_transform(np.array(dfscaled[column]).reshape(-1,1)) \n",
    "dfscaled[column].hist(bins=100, figsize=(8,5))"
   ]
  },
  {
   "cell_type": "code",
   "execution_count": 17,
   "id": "e4feb611",
   "metadata": {},
   "outputs": [
    {
     "data": {
      "text/plain": [
       "count    83326.000000\n",
       "mean       103.394079\n",
       "std         96.248527\n",
       "min          0.000000\n",
       "25%         31.000000\n",
       "50%         75.000000\n",
       "75%        148.000000\n",
       "max        755.000000\n",
       "Name: EmploymentStatusDuration, dtype: float64"
      ]
     },
     "execution_count": 17,
     "metadata": {},
     "output_type": "execute_result"
    }
   ],
   "source": [
    "dfscaled.EmploymentStatusDuration.describe()"
   ]
  },
  {
   "cell_type": "code",
   "execution_count": 18,
   "id": "2c1b3d9d",
   "metadata": {},
   "outputs": [
    {
     "data": {
      "text/plain": [
       "<AxesSubplot:>"
      ]
     },
     "execution_count": 18,
     "metadata": {},
     "output_type": "execute_result"
    },
    {
     "data": {
      "image/png": "[encoded data removed]",
      "text/plain": [
       "<Figure size 576x360 with 1 Axes>"
      ]
     },
     "metadata": {
      "needs_background": "light"
     },
     "output_type": "display_data"
    }
   ],
   "source": [
    "column = 'OpenRevolvingMonthlyPayment'\n",
    "#dfscaled[column]=StandardScaler().fit_transform(np.array(dfscaled[column]).reshape(-1,1)) \n",
    "dfscaled[column].hist(bins=100, figsize=(8,5))"
   ]
  },
  {
   "cell_type": "code",
   "execution_count": 19,
   "id": "9ca75491",
   "metadata": {},
   "outputs": [
    {
     "data": {
      "text/plain": [
       "<AxesSubplot:>"
      ]
     },
     "execution_count": 19,
     "metadata": {},
     "output_type": "execute_result"
    },
    {
     "data": {
      "image/png": "[encoded data removed]",
      "text/plain": [
       "<Figure size 576x360 with 1 Axes>"
      ]
     },
     "metadata": {
      "needs_background": "light"
     },
     "output_type": "display_data"
    }
   ],
   "source": [
    "column = 'AmountDelinquent'\n",
    "#dfscaled[column] =StandardScaler().fit_transform(np.array(dfscaled[column]).reshape(-1,1)) \n",
    "dfscaled[column].hist(bins=100, figsize=(8,5))"
   ]
  },
  {
   "cell_type": "code",
   "execution_count": 20,
   "id": "c602f5a8",
   "metadata": {},
   "outputs": [
    {
     "data": {
      "text/plain": [
       "<AxesSubplot:>"
      ]
     },
     "execution_count": 20,
     "metadata": {},
     "output_type": "execute_result"
    },
    {
     "data": {
      "image/png": "[encoded data removed]",
      "text/plain": [
       "<Figure size 576x360 with 1 Axes>"
      ]
     },
     "metadata": {
      "needs_background": "light"
     },
     "output_type": "display_data"
    }
   ],
   "source": [
    "column ='DelinquenciesLast7Years'\n",
    "#dfscaled[column] =StandardScaler().fit_transform(np.array(dfscaled[column]).reshape(-1,1)) \n",
    "dfscaled[column].hist(bins=100, figsize=(8,5))"
   ]
  },
  {
   "cell_type": "code",
   "execution_count": 21,
   "id": "01ab9c02",
   "metadata": {},
   "outputs": [
    {
     "data": {
      "text/plain": [
       "<AxesSubplot:>"
      ]
     },
     "execution_count": 21,
     "metadata": {},
     "output_type": "execute_result"
    },
    {
     "data": {
      "image/png": "[encoded data removed]",
      "text/plain": [
       "<Figure size 576x360 with 1 Axes>"
      ]
     },
     "metadata": {
      "needs_background": "light"
     },
     "output_type": "display_data"
    }
   ],
   "source": [
    "column ='RevolvingCreditBalance'\n",
    "#dfscaled[column] =StandardScaler().fit_transform(np.array(dfscaled[column]).reshape(-1,1)) \n",
    "dfscaled[column].hist(bins=100, figsize=(8,5))"
   ]
  },
  {
   "cell_type": "code",
   "execution_count": 22,
   "id": "8e3b7441",
   "metadata": {},
   "outputs": [
    {
     "data": {
      "text/plain": [
       "<AxesSubplot:>"
      ]
     },
     "execution_count": 22,
     "metadata": {},
     "output_type": "execute_result"
    },
    {
     "data": {
      "image/png": "[encoded data removed]",
      "text/plain": [
       "<Figure size 576x360 with 1 Axes>"
      ]
     },
     "metadata": {
      "needs_background": "light"
     },
     "output_type": "display_data"
    }
   ],
   "source": [
    "column ='AvailableBankcardCredit'\n",
    "#dfscaled[column] =StandardScaler().fit_transform(np.array(dfscaled[column]).reshape(-1,1)) \n",
    "dfscaled[column].hist(bins=100, figsize=(8,5))"
   ]
  },
  {
   "cell_type": "code",
   "execution_count": 23,
   "id": "c547c00d",
   "metadata": {},
   "outputs": [
    {
     "data": {
      "text/plain": [
       "<AxesSubplot:>"
      ]
     },
     "execution_count": 23,
     "metadata": {},
     "output_type": "execute_result"
    },
    {
     "data": {
      "image/png": "[encoded data removed]",
      "text/plain": [
       "<Figure size 576x360 with 1 Axes>"
      ]
     },
     "metadata": {
      "needs_background": "light"
     },
     "output_type": "display_data"
    }
   ],
   "source": [
    "column ='LoanCurrentDaysDelinquent'\n",
    "#dfscaled[column] =StandardScaler().fit_transform(np.array(dfscaled[column]).reshape(-1,1)) \n",
    "dfscaled[column].hist(bins=100, figsize=(8,5))\n"
   ]
  },
  {
   "cell_type": "code",
   "execution_count": 24,
   "id": "2bce7813",
   "metadata": {},
   "outputs": [
    {
     "data": {
      "text/plain": [
       "<AxesSubplot:>"
      ]
     },
     "execution_count": 24,
     "metadata": {},
     "output_type": "execute_result"
    },
    {
     "data": {
      "image/png": "[encoded data removed]",
      "text/plain": [
       "<Figure size 576x360 with 1 Axes>"
      ]
     },
     "metadata": {
      "needs_background": "light"
     },
     "output_type": "display_data"
    }
   ],
   "source": [
    "column = 'MonthlyLoanPayment'\n",
    "#dfscaled[column] =StandardScaler().fit_transform(np.array(dfscaled[column]).reshape(-1,1)) \n",
    "dfscaled[column].hist(bins=100, figsize=(8,5))"
   ]
  },
  {
   "cell_type": "code",
   "execution_count": 25,
   "id": "2c44ad55",
   "metadata": {},
   "outputs": [
    {
     "data": {
      "text/plain": [
       "<AxesSubplot:>"
      ]
     },
     "execution_count": 25,
     "metadata": {},
     "output_type": "execute_result"
    },
    {
     "data": {
      "image/png": "[encoded data removed]",
      "text/plain": [
       "<Figure size 576x360 with 1 Axes>"
      ]
     },
     "metadata": {
      "needs_background": "light"
     },
     "output_type": "display_data"
    }
   ],
   "source": [
    "column ='LP_CustomerPrincipalPayments'\n",
    "#dfscaled[column] =StandardScaler().fit_transform(np.array(dfscaled[column]).reshape(-1,1)) \n",
    "dfscaled[column].hist(bins=100, figsize=(8,5))"
   ]
  },
  {
   "cell_type": "code",
   "execution_count": 26,
   "id": "945cffb6",
   "metadata": {},
   "outputs": [
    {
     "data": {
      "text/plain": [
       "<AxesSubplot:>"
      ]
     },
     "execution_count": 26,
     "metadata": {},
     "output_type": "execute_result"
    },
    {
     "data": {
      "image/png": "[encoded data removed]",
      "text/plain": [
       "<Figure size 576x360 with 1 Axes>"
      ]
     },
     "metadata": {
      "needs_background": "light"
     },
     "output_type": "display_data"
    }
   ],
   "source": [
    "column ='LP_InterestandFees'\n",
    "#dfscaled[column] =StandardScaler().fit_transform(np.array(dfscaled[column]).reshape(-1,1)) \n",
    "dfscaled[column].hist(bins=100, figsize=(8,5))"
   ]
  },
  {
   "cell_type": "code",
   "execution_count": 27,
   "id": "71b66c25",
   "metadata": {},
   "outputs": [
    {
     "data": {
      "text/plain": [
       "<AxesSubplot:>"
      ]
     },
     "execution_count": 27,
     "metadata": {},
     "output_type": "execute_result"
    },
    {
     "data": {
      "image/png": "[encoded data removed]",
      "text/plain": [
       "<Figure size 576x360 with 1 Axes>"
      ]
     },
     "metadata": {
      "needs_background": "light"
     },
     "output_type": "display_data"
    }
   ],
   "source": [
    "column ='LP_ServiceFees'\n",
    "#dfscaled[column] =StandardScaler().fit_transform(np.array(dfscaled[column]).reshape(-1,1)) \n",
    "dfscaled[column].hist(bins=100, figsize=(8,5))"
   ]
  },
  {
   "cell_type": "code",
   "execution_count": 28,
   "id": "091cbfd2",
   "metadata": {},
   "outputs": [
    {
     "data": {
      "text/plain": [
       "<AxesSubplot:>"
      ]
     },
     "execution_count": 28,
     "metadata": {},
     "output_type": "execute_result"
    },
    {
     "data": {
      "image/png": "[encoded data removed]",
      "text/plain": [
       "<Figure size 576x360 with 1 Axes>"
      ]
     },
     "metadata": {
      "needs_background": "light"
     },
     "output_type": "display_data"
    }
   ],
   "source": [
    "column ='LP_CollectionFees'\n",
    "#dfscaled[column] =StandardScaler().fit_transform(np.array(dfscaled[column]).reshape(-1,1)) \n",
    "dfscaled[column].hist(bins=100, figsize=(8,5))"
   ]
  },
  {
   "cell_type": "code",
   "execution_count": 29,
   "id": "c4782b29",
   "metadata": {},
   "outputs": [
    {
     "data": {
      "text/plain": [
       "<AxesSubplot:>"
      ]
     },
     "execution_count": 29,
     "metadata": {},
     "output_type": "execute_result"
    },
    {
     "data": {
      "image/png": "[encoded data removed]",
      "text/plain": [
       "<Figure size 576x360 with 1 Axes>"
      ]
     },
     "metadata": {
      "needs_background": "light"
     },
     "output_type": "display_data"
    }
   ],
   "source": [
    "column ='LP_GrossPrincipalLoss'\n",
    "#dfscaled[column] =StandardScaler().fit_transform(np.array(dfscaled[column]).reshape(-1,1)) \n",
    "dfscaled[column].hist(bins=100, figsize=(8,5))"
   ]
  },
  {
   "cell_type": "code",
   "execution_count": 30,
   "id": "a4b1c761",
   "metadata": {},
   "outputs": [
    {
     "data": {
      "text/plain": [
       "<AxesSubplot:>"
      ]
     },
     "execution_count": 30,
     "metadata": {},
     "output_type": "execute_result"
    },
    {
     "data": {
      "image/png": "[encoded data removed]",
      "text/plain": [
       "<Figure size 576x360 with 1 Axes>"
      ]
     },
     "metadata": {
      "needs_background": "light"
     },
     "output_type": "display_data"
    }
   ],
   "source": [
    "column ='LP_NetPrincipalLoss'\n",
    "#dfscaled[column] =StandardScaler().fit_transform(np.array(dfscaled[column]).reshape(-1,1)) \n",
    "dfscaled[column].hist(bins=100, figsize=(8,5))"
   ]
  },
  {
   "cell_type": "code",
   "execution_count": 31,
   "id": "62dacb59",
   "metadata": {},
   "outputs": [
    {
     "data": {
      "text/plain": [
       "<AxesSubplot:>"
      ]
     },
     "execution_count": 31,
     "metadata": {},
     "output_type": "execute_result"
    },
    {
     "data": {
      "image/png": "[encoded data removed]",
      "text/plain": [
       "<Figure size 576x360 with 1 Axes>"
      ]
     },
     "metadata": {
      "needs_background": "light"
     },
     "output_type": "display_data"
    }
   ],
   "source": [
    "column ='LP_NetPrincipalLoss'\n",
    "#dfscaled[column] =StandardScaler().fit_transform(np.array(dfscaled[column]).reshape(-1,1)) \n",
    "dfscaled[column].hist(bins=100, figsize=(8,5))"
   ]
  },
  {
   "cell_type": "code",
   "execution_count": 32,
   "id": "4b3f6a15",
   "metadata": {},
   "outputs": [
    {
     "data": {
      "text/plain": [
       "<AxesSubplot:>"
      ]
     },
     "execution_count": 32,
     "metadata": {},
     "output_type": "execute_result"
    },
    {
     "data": {
      "image/png": "[encoded data removed]",
      "text/plain": [
       "<Figure size 576x360 with 1 Axes>"
      ]
     },
     "metadata": {
      "needs_background": "light"
     },
     "output_type": "display_data"
    }
   ],
   "source": [
    "column ='InvestmentFromFriendsAmount'\n",
    "#dfscaled[column] =StandardScaler().fit_transform(np.array(dfscaled[column]).reshape(-1,1)) \n",
    "dfscaled[column].hist(bins=100, figsize=(8,5))"
   ]
  },
  {
   "cell_type": "code",
   "execution_count": 33,
   "id": "7f18afe6",
   "metadata": {},
   "outputs": [
    {
     "data": {
      "text/plain": [
       "<AxesSubplot:>"
      ]
     },
     "execution_count": 33,
     "metadata": {},
     "output_type": "execute_result"
    },
    {
     "data": {
      "image/png": "[encoded data removed]",
      "text/plain": [
       "<Figure size 576x360 with 1 Axes>"
      ]
     },
     "metadata": {
      "needs_background": "light"
     },
     "output_type": "display_data"
    }
   ],
   "source": [
    "column ='Investors'\n",
    "#dfscaled[column] =StandardScaler().fit_transform(np.array(dfscaled[column]).reshape(-1,1)) \n",
    "dfscaled[column].hist(bins=100, figsize=(8,5))"
   ]
  },
  {
   "cell_type": "markdown",
   "id": "6ffbe71a",
   "metadata": {},
   "source": [
    "## Feature Engineering for Categorical Variables"
   ]
  },
  {
   "cell_type": "markdown",
   "id": "9f63afed",
   "metadata": {},
   "source": [
    "### Select Categorical variables"
   ]
  },
  {
   "cell_type": "code",
   "execution_count": 34,
   "id": "279f9d6d",
   "metadata": {},
   "outputs": [
    {
     "data": {
      "text/plain": [
       "['ListingKey',\n",
       " 'ListingCreationDate',\n",
       " 'LoanStatus',\n",
       " 'ProsperRating (Alpha)',\n",
       " 'BorrowerState',\n",
       " 'Occupation',\n",
       " 'EmploymentStatus',\n",
       " 'DateCreditPulled',\n",
       " 'FirstRecordedCreditLine',\n",
       " 'IncomeRange',\n",
       " 'LoanKey',\n",
       " 'LoanOriginationDate',\n",
       " 'LoanOriginationQuarter',\n",
       " 'MemberKey']"
      ]
     },
     "execution_count": 34,
     "metadata": {},
     "output_type": "execute_result"
    }
   ],
   "source": [
    "#select categorical columns \n",
    "s=(dfscaled.dtypes==\"object\")\n",
    "categorical_variables = list(s[s].index)\n",
    "categorical_variables"
   ]
  },
  {
   "cell_type": "markdown",
   "id": "c0a2ee1d",
   "metadata": {},
   "source": [
    "### Investigate those Categoricale Variables "
   ]
  },
  {
   "cell_type": "markdown",
   "id": "1e09d814",
   "metadata": {},
   "source": [
    "#####  LoanStatus  "
   ]
  },
  {
   "cell_type": "code",
   "execution_count": 35,
   "id": "1b27eeec",
   "metadata": {},
   "outputs": [
    {
     "data": {
      "text/plain": [
       "array(['Current', 'Past Due (1-15 days)', 'Defaulted', 'Completed',\n",
       "       'Chargedoff', 'Past Due (16-30 days)', 'Past Due (61-90 days)',\n",
       "       'Past Due (31-60 days)', 'Past Due (91-120 days)',\n",
       "       'FinalPaymentInProgress', 'Past Due (>120 days)'], dtype=object)"
      ]
     },
     "execution_count": 35,
     "metadata": {},
     "output_type": "execute_result"
    }
   ],
   "source": [
    "dfscaled.LoanStatus.unique()"
   ]
  },
  {
   "cell_type": "markdown",
   "id": "7287af9c",
   "metadata": {},
   "source": [
    "\n",
    "Since this **\"LoanStatus\"** variable is our **target variable** in the **Classification model** . Hence, we will not encode it at this stage of **Feature engineering for Categorical variables** ,given that further preprocessing will be done in the **'Modeling '** stage."
   ]
  },
  {
   "cell_type": "markdown",
   "id": "8493cca9",
   "metadata": {},
   "source": [
    "##### ProsperRating (Alpha)"
   ]
  },
  {
   "cell_type": "code",
   "execution_count": 36,
   "id": "b45a3a2d",
   "metadata": {},
   "outputs": [
    {
     "data": {
      "text/plain": [
       "array(['A', 'D', 'B', 'E', 'C', 'AA', 'HR'], dtype=object)"
      ]
     },
     "execution_count": 36,
     "metadata": {},
     "output_type": "execute_result"
    }
   ],
   "source": [
    "dfscaled[\"ProsperRating (Alpha)\"].unique()"
   ]
  },
  {
   "cell_type": "markdown",
   "id": "15b61f2b",
   "metadata": {},
   "source": [
    "\n",
    "  As we can see this **\"ProsperRating (Alpha)\"** variable is caracterized with an intrinsic order : **'HR'** is less than **'E'** ,and **'E'** is less than **'D'**,and **'D'** is less than **'C'**, ...etc.\n",
    "\n",
    "  Thus,it is an **Ordinal variable** .Consequently, we will apply **Orninal Enconding** on it ."
   ]
  },
  {
   "cell_type": "markdown",
   "id": "465c1dd0",
   "metadata": {},
   "source": [
    "##### BorrowerState"
   ]
  },
  {
   "cell_type": "code",
   "execution_count": 37,
   "id": "7d6f94f8",
   "metadata": {},
   "outputs": [
    {
     "data": {
      "text/plain": [
       "array(['CO', 'GA', 'MN', 'NM', 'KS', 'CA', 'IL', 'MD', 'AL', 'AZ', 'VA',\n",
       "       'FL', 'PA', 'OR', 'NY', 'LA', 'WI', 'OH', 'NC', 'WA', 'MI', 'NV',\n",
       "       'NJ', 'TX', 'AR', 'SC', 'DE', 'UT', 'DC', 'MA', 'MO', 'CT', 'IN',\n",
       "       'KY', 'OK', 'MS', 'WV', 'RI', 'TN', 'ID', 'HI', 'NH', 'NE', 'WY',\n",
       "       'AK', 'MT', 'VT', 'SD'], dtype=object)"
      ]
     },
     "execution_count": 37,
     "metadata": {},
     "output_type": "execute_result"
    }
   ],
   "source": [
    "dfscaled[\"BorrowerState\"].unique()"
   ]
  },
  {
   "cell_type": "markdown",
   "id": "b4f9faf9",
   "metadata": {},
   "source": [
    "As we see ,there is no evidence that this variable has an ordering in its values.Hence it is a **Nominal variable**.\n",
    "\n",
    "  As for the Encoding , we have two approaches : **'label encoding'** or **'One-Hot Encoding'** . "
   ]
  },
  {
   "cell_type": "code",
   "execution_count": 38,
   "id": "8c54bcb0",
   "metadata": {},
   "outputs": [
    {
     "data": {
      "text/plain": [
       "48"
      ]
     },
     "execution_count": 38,
     "metadata": {},
     "output_type": "execute_result"
    }
   ],
   "source": [
    "#Number of unique values \n",
    "len(dfscaled[\"BorrowerState\"].unique())"
   ]
  },
  {
   "cell_type": "markdown",
   "id": "9626e3f0",
   "metadata": {},
   "source": [
    "Since the number of categories is significant , we can't use One-Hot Encoding, otherwise we will create 48 additional columns in our dataset !\n",
    "\n",
    "The Only approache that we can apply here is **'Label Encoding'**"
   ]
  },
  {
   "cell_type": "markdown",
   "id": "16281baa",
   "metadata": {},
   "source": [
    "##### Occupation"
   ]
  },
  {
   "cell_type": "code",
   "execution_count": 39,
   "id": "3d8bb261",
   "metadata": {},
   "outputs": [
    {
     "data": {
      "text/plain": [
       "array(['Professional', 'Skilled Labor', 'Executive', 'Sales - Retail',\n",
       "       'Laborer', 'Food Service', 'Fireman', 'Construction',\n",
       "       'Computer Programmer', 'Other', 'Sales - Commission',\n",
       "       'Retail Management', 'Engineer - Mechanical', 'Military Enlisted',\n",
       "       'Clerical', 'Teacher', 'Clergy', 'Attorney', 'Nurse (RN)',\n",
       "       'Accountant/CPA', 'Analyst', 'Investor', 'Flight Attendant',\n",
       "       'Nurse (LPN)', 'Military Officer', 'Truck Driver',\n",
       "       'Administrative Assistant', 'Police Officer/Correction Officer',\n",
       "       'Social Worker', 'Food Service Management', 'Tradesman - Mechanic',\n",
       "       'Medical Technician', 'Professor', 'Postal Service',\n",
       "       'Waiter/Waitress', 'Civil Service', 'Pharmacist',\n",
       "       'Tradesman - Electrician', 'Scientist', 'Dentist',\n",
       "       'Engineer - Electrical', 'Architect', 'Landscaping', 'Bus Driver',\n",
       "       'Engineer - Chemical', 'Doctor', 'Chemist', \"Teacher's Aide\",\n",
       "       'Pilot - Private/Commercial', \"Nurse's Aide\", 'Religious',\n",
       "       'Homemaker', 'Realtor', 'Student - College Senior', 'Principal',\n",
       "       'Psychologist', 'Biologist', 'Tradesman - Carpenter', 'Judge',\n",
       "       'Car Dealer', 'Student - College Graduate Student',\n",
       "       'Student - College Freshman', 'Student - College Junior',\n",
       "       'Tradesman - Plumber', 'Student - College Sophomore',\n",
       "       'Student - Community College', 'Student - Technical School'],\n",
       "      dtype=object)"
      ]
     },
     "execution_count": 39,
     "metadata": {},
     "output_type": "execute_result"
    }
   ],
   "source": [
    "dfscaled[\"Occupation\"].unique()"
   ]
  },
  {
   "cell_type": "markdown",
   "id": "614e18c6",
   "metadata": {},
   "source": [
    "The Same thing that we have said about  **\"BorrowerState\"** applies also here in the **\"Occupation\"** variable.\n",
    "\n",
    "We will use here also **'Label Encoding'**"
   ]
  },
  {
   "cell_type": "markdown",
   "id": "c688c236",
   "metadata": {},
   "source": [
    "##### EmploymentStatus"
   ]
  },
  {
   "cell_type": "code",
   "execution_count": 40,
   "id": "ff722333",
   "metadata": {},
   "outputs": [
    {
     "data": {
      "text/plain": [
       "array(['Employed', 'Other', 'Full-time', 'Self-employed', 'Not employed',\n",
       "       'Retired', 'Part-time'], dtype=object)"
      ]
     },
     "execution_count": 40,
     "metadata": {},
     "output_type": "execute_result"
    }
   ],
   "source": [
    "dfscaled[\"EmploymentStatus\"].unique()"
   ]
  },
  {
   "cell_type": "markdown",
   "id": "2761f455",
   "metadata": {},
   "source": [
    "As we remark , \"EmploymentStatus\" is a \"Nominal variable\" since there is no obvious ranking in its values.\n",
    "\n",
    "For Coding approaches , we have here two possibilities :'Label Encoding' and 'One-Hot Encoding'.\n",
    "\n",
    "Given that there aren't so much categories (7 gategories ) we can use 'One-Hot Encoding'."
   ]
  },
  {
   "cell_type": "markdown",
   "id": "899c063e",
   "metadata": {},
   "source": [
    "##### IncomeRange"
   ]
  },
  {
   "cell_type": "code",
   "execution_count": 41,
   "id": "ee690b96",
   "metadata": {},
   "outputs": [
    {
     "data": {
      "text/plain": [
       "array(['$50,000-74,999', '$25,000-49,999', '$100,000+', '$75,000-99,999',\n",
       "       '$1-24,999', 'Not employed', '$0'], dtype=object)"
      ]
     },
     "execution_count": 41,
     "metadata": {},
     "output_type": "execute_result"
    }
   ],
   "source": [
    "dfscaled[\"IncomeRange\"].unique()"
   ]
  },
  {
   "cell_type": "markdown",
   "id": "396fbc6f",
   "metadata": {},
   "source": [
    "Rather then using classical approaches , we are going to exploit  the specificity of this variable.\n",
    "\n",
    "We can use **Regual Expression techniques** to extract the numerical values from each category and then perform the mean of each interval .Finally we will map each categorie with its corresponding numeric mean value ."
   ]
  },
  {
   "cell_type": "markdown",
   "id": "e0e79250",
   "metadata": {},
   "source": [
    "## Perform Encoding "
   ]
  },
  {
   "cell_type": "markdown",
   "id": "0d8af35b",
   "metadata": {},
   "source": [
    "### ProsperRating (Alpha)"
   ]
  },
  {
   "cell_type": "code",
   "execution_count": 42,
   "id": "d54c8d09",
   "metadata": {},
   "outputs": [
    {
     "data": {
      "text/plain": [
       "array([0., 4., 2., 5., 3., 1., 6.])"
      ]
     },
     "execution_count": 42,
     "metadata": {},
     "output_type": "execute_result"
    }
   ],
   "source": [
    "from sklearn.preprocessing import OrdinalEncoder\n",
    "\n",
    "\n",
    "ordinal_encoder = OrdinalEncoder()\n",
    "\n",
    "dfscaled['ProsperRating (Alpha)']= ordinal_encoder.fit_transform( dfscaled.loc[:,['ProsperRating (Alpha)']] )\n",
    "  \n",
    "dfscaled['ProsperRating (Alpha)'].unique()"
   ]
  },
  {
   "cell_type": "markdown",
   "id": "ba665d46",
   "metadata": {},
   "source": [
    "### BorrowerState and Occupation"
   ]
  },
  {
   "cell_type": "code",
   "execution_count": 43,
   "id": "c3ea12f6",
   "metadata": {},
   "outputs": [
    {
     "data": {
      "text/plain": [
       "array([ 5, 10, 21, 29, 15,  4, 13, 19,  1,  3, 42,  9, 35, 34, 31, 17, 45,\n",
       "       32, 25, 44, 20, 30, 28, 40,  2, 37,  8, 41,  7, 18, 22,  6, 14, 16,\n",
       "       33, 23, 46, 36, 39, 12, 11, 27, 26, 47,  0, 24, 43, 38])"
      ]
     },
     "execution_count": 43,
     "metadata": {},
     "output_type": "execute_result"
    }
   ],
   "source": [
    "# Import label encoder\n",
    "from sklearn import preprocessing\n",
    "  \n",
    "# label_encoder object knows how to understand word labels.\n",
    "label_encoder = preprocessing.LabelEncoder()\n",
    "  \n",
    "# Encode labels in column 'BorrowerState'.\n",
    "dfscaled['BorrowerState']= label_encoder.fit_transform( dfscaled['BorrowerState'] )\n",
    "  \n",
    "dfscaled['BorrowerState'].unique()"
   ]
  },
  {
   "cell_type": "code",
   "execution_count": 44,
   "id": "184a5ac4",
   "metadata": {},
   "outputs": [
    {
     "data": {
      "text/plain": [
       "array([41, 50, 19, 48, 27, 22, 20, 13, 12, 35, 47, 46, 18, 30, 11, 59, 10,\n",
       "        4, 33,  0,  2, 25, 21, 32, 31, 65,  1, 38, 51, 23, 63, 29, 42, 39,\n",
       "       66,  9, 36, 62, 49, 14, 17,  3, 28,  6, 16, 15,  8, 60, 37, 34, 45,\n",
       "       24, 44, 55, 40, 43,  5, 61, 26,  7, 53, 52, 54, 64, 56, 57, 58])"
      ]
     },
     "execution_count": 44,
     "metadata": {},
     "output_type": "execute_result"
    }
   ],
   "source": [
    "# Encode labels in column 'Occupation'.\n",
    "dfscaled['Occupation']= label_encoder.fit_transform( dfscaled['Occupation'] )\n",
    "  \n",
    "dfscaled['Occupation'].unique()"
   ]
  },
  {
   "cell_type": "markdown",
   "id": "47a720cd",
   "metadata": {},
   "source": [
    "### EmploymentStatus"
   ]
  },
  {
   "cell_type": "code",
   "execution_count": 45,
   "id": "19f7a18f",
   "metadata": {},
   "outputs": [
    {
     "data": {
      "text/html": [
       "<div>\n",
       "<style scoped>\n",
       "    .dataframe tbody tr th:only-of-type {\n",
       "        vertical-align: middle;\n",
       "    }\n",
       "\n",
       "    .dataframe tbody tr th {\n",
       "        vertical-align: top;\n",
       "    }\n",
       "\n",
       "    .dataframe thead th {\n",
       "        text-align: right;\n",
       "    }\n",
       "</style>\n",
       "<table border=\"1\" class=\"dataframe\">\n",
       "  <thead>\n",
       "    <tr style=\"text-align: right;\">\n",
       "      <th></th>\n",
       "      <th>ListingKey</th>\n",
       "      <th>ListingNumber</th>\n",
       "      <th>ListingCreationDate</th>\n",
       "      <th>Term</th>\n",
       "      <th>LoanStatus</th>\n",
       "      <th>BorrowerAPR</th>\n",
       "      <th>BorrowerRate</th>\n",
       "      <th>LenderYield</th>\n",
       "      <th>EstimatedEffectiveYield</th>\n",
       "      <th>EstimatedLoss</th>\n",
       "      <th>...</th>\n",
       "      <th>InvestmentFromFriendsCount</th>\n",
       "      <th>InvestmentFromFriendsAmount</th>\n",
       "      <th>Investors</th>\n",
       "      <th>Employed</th>\n",
       "      <th>Other</th>\n",
       "      <th>Full-time</th>\n",
       "      <th>Self-employed</th>\n",
       "      <th>Not employed</th>\n",
       "      <th>Retired</th>\n",
       "      <th>Part-time</th>\n",
       "    </tr>\n",
       "  </thead>\n",
       "  <tbody>\n",
       "    <tr>\n",
       "      <th>0</th>\n",
       "      <td>10273602499503308B223C1</td>\n",
       "      <td>1209647</td>\n",
       "      <td>2014-02-27 08:28:07</td>\n",
       "      <td>36</td>\n",
       "      <td>Current</td>\n",
       "      <td>0.12016</td>\n",
       "      <td>0.0920</td>\n",
       "      <td>0.0820</td>\n",
       "      <td>0.07960</td>\n",
       "      <td>0.0249</td>\n",
       "      <td>...</td>\n",
       "      <td>0</td>\n",
       "      <td>0.0</td>\n",
       "      <td>1</td>\n",
       "      <td>1.0</td>\n",
       "      <td>0.0</td>\n",
       "      <td>0.0</td>\n",
       "      <td>0.0</td>\n",
       "      <td>0.0</td>\n",
       "      <td>0.0</td>\n",
       "      <td>0.0</td>\n",
       "    </tr>\n",
       "    <tr>\n",
       "      <th>1</th>\n",
       "      <td>0EF5356002482715299901A</td>\n",
       "      <td>658116</td>\n",
       "      <td>2012-10-22 11:02:35</td>\n",
       "      <td>36</td>\n",
       "      <td>Current</td>\n",
       "      <td>0.12528</td>\n",
       "      <td>0.0974</td>\n",
       "      <td>0.0874</td>\n",
       "      <td>0.08490</td>\n",
       "      <td>0.0249</td>\n",
       "      <td>...</td>\n",
       "      <td>0</td>\n",
       "      <td>0.0</td>\n",
       "      <td>158</td>\n",
       "      <td>1.0</td>\n",
       "      <td>0.0</td>\n",
       "      <td>0.0</td>\n",
       "      <td>0.0</td>\n",
       "      <td>0.0</td>\n",
       "      <td>0.0</td>\n",
       "      <td>0.0</td>\n",
       "    </tr>\n",
       "    <tr>\n",
       "      <th>2</th>\n",
       "      <td>0F023589499656230C5E3E2</td>\n",
       "      <td>909464</td>\n",
       "      <td>2013-09-14 18:38:39</td>\n",
       "      <td>36</td>\n",
       "      <td>Current</td>\n",
       "      <td>0.24614</td>\n",
       "      <td>0.2085</td>\n",
       "      <td>0.1985</td>\n",
       "      <td>0.18316</td>\n",
       "      <td>0.0925</td>\n",
       "      <td>...</td>\n",
       "      <td>0</td>\n",
       "      <td>0.0</td>\n",
       "      <td>20</td>\n",
       "      <td>1.0</td>\n",
       "      <td>0.0</td>\n",
       "      <td>0.0</td>\n",
       "      <td>0.0</td>\n",
       "      <td>0.0</td>\n",
       "      <td>0.0</td>\n",
       "      <td>0.0</td>\n",
       "    </tr>\n",
       "    <tr>\n",
       "      <th>3</th>\n",
       "      <td>0F05359734824199381F61D</td>\n",
       "      <td>1074836</td>\n",
       "      <td>2013-12-14 08:26:37</td>\n",
       "      <td>60</td>\n",
       "      <td>Current</td>\n",
       "      <td>0.15425</td>\n",
       "      <td>0.1314</td>\n",
       "      <td>0.1214</td>\n",
       "      <td>0.11567</td>\n",
       "      <td>0.0449</td>\n",
       "      <td>...</td>\n",
       "      <td>0</td>\n",
       "      <td>0.0</td>\n",
       "      <td>1</td>\n",
       "      <td>1.0</td>\n",
       "      <td>0.0</td>\n",
       "      <td>0.0</td>\n",
       "      <td>0.0</td>\n",
       "      <td>0.0</td>\n",
       "      <td>0.0</td>\n",
       "      <td>0.0</td>\n",
       "    </tr>\n",
       "    <tr>\n",
       "      <th>4</th>\n",
       "      <td>0F0A3576754255009D63151</td>\n",
       "      <td>750899</td>\n",
       "      <td>2013-04-12 09:52:56</td>\n",
       "      <td>36</td>\n",
       "      <td>Current</td>\n",
       "      <td>0.31032</td>\n",
       "      <td>0.2712</td>\n",
       "      <td>0.2612</td>\n",
       "      <td>0.23820</td>\n",
       "      <td>0.1275</td>\n",
       "      <td>...</td>\n",
       "      <td>0</td>\n",
       "      <td>0.0</td>\n",
       "      <td>1</td>\n",
       "      <td>1.0</td>\n",
       "      <td>0.0</td>\n",
       "      <td>0.0</td>\n",
       "      <td>0.0</td>\n",
       "      <td>0.0</td>\n",
       "      <td>0.0</td>\n",
       "      <td>0.0</td>\n",
       "    </tr>\n",
       "  </tbody>\n",
       "</table>\n",
       "<p>5 rows × 75 columns</p>\n",
       "</div>"
      ],
      "text/plain": [
       "                ListingKey  ListingNumber  ListingCreationDate  Term  \\\n",
       "0  10273602499503308B223C1        1209647  2014-02-27 08:28:07    36   \n",
       "1  0EF5356002482715299901A         658116  2012-10-22 11:02:35    36   \n",
       "2  0F023589499656230C5E3E2         909464  2013-09-14 18:38:39    36   \n",
       "3  0F05359734824199381F61D        1074836  2013-12-14 08:26:37    60   \n",
       "4  0F0A3576754255009D63151         750899  2013-04-12 09:52:56    36   \n",
       "\n",
       "  LoanStatus  BorrowerAPR  BorrowerRate  LenderYield  EstimatedEffectiveYield  \\\n",
       "0    Current      0.12016        0.0920       0.0820                  0.07960   \n",
       "1    Current      0.12528        0.0974       0.0874                  0.08490   \n",
       "2    Current      0.24614        0.2085       0.1985                  0.18316   \n",
       "3    Current      0.15425        0.1314       0.1214                  0.11567   \n",
       "4    Current      0.31032        0.2712       0.2612                  0.23820   \n",
       "\n",
       "   EstimatedLoss  ...  InvestmentFromFriendsCount  \\\n",
       "0         0.0249  ...                           0   \n",
       "1         0.0249  ...                           0   \n",
       "2         0.0925  ...                           0   \n",
       "3         0.0449  ...                           0   \n",
       "4         0.1275  ...                           0   \n",
       "\n",
       "   InvestmentFromFriendsAmount  Investors  Employed  Other  Full-time  \\\n",
       "0                          0.0          1       1.0    0.0        0.0   \n",
       "1                          0.0        158       1.0    0.0        0.0   \n",
       "2                          0.0         20       1.0    0.0        0.0   \n",
       "3                          0.0          1       1.0    0.0        0.0   \n",
       "4                          0.0          1       1.0    0.0        0.0   \n",
       "\n",
       "   Self-employed  Not employed  Retired  Part-time  \n",
       "0            0.0           0.0      0.0        0.0  \n",
       "1            0.0           0.0      0.0        0.0  \n",
       "2            0.0           0.0      0.0        0.0  \n",
       "3            0.0           0.0      0.0        0.0  \n",
       "4            0.0           0.0      0.0        0.0  \n",
       "\n",
       "[5 rows x 75 columns]"
      ]
     },
     "execution_count": 45,
     "metadata": {},
     "output_type": "execute_result"
    }
   ],
   "source": [
    "from sklearn import preprocessing\n",
    "OH_encoder = preprocessing.OneHotEncoder(handle_unknown='ignore', sparse=False)\n",
    "encoder_vars_array = OH_encoder.fit_transform(dfscaled.loc[:,[\"EmploymentStatus\"]])\n",
    "\n",
    "# create object for the feature names using the categorical variables\n",
    "#encoder_feature_names = one_hot_encoder.get_feature_names(categorical_vars)\n",
    "Listt = dfscaled.EmploymentStatus.unique()\n",
    "# create a dataframe to hold the one hot encoded variables\n",
    "encoder_vars_df = pd.DataFrame(encoder_vars_array, columns = Listt)\n",
    "\n",
    "# concatenate the new dataframe back to the original input variables dataframe\n",
    "dfscaled = pd.concat([dfscaled.reset_index(drop=True), encoder_vars_df.reset_index(drop=True)], axis = 1)\n",
    "\n",
    "# drop the original input 2 and input 3 as it is not needed anymore\n",
    "dfscaled.drop(columns = [\"EmploymentStatus\"], axis = 1, inplace = True)\n",
    "dfscaled.head()\n"
   ]
  },
  {
   "cell_type": "markdown",
   "id": "437652f8",
   "metadata": {},
   "source": [
    "### IncomeRange"
   ]
  },
  {
   "cell_type": "code",
   "execution_count": 46,
   "id": "f6632b9b",
   "metadata": {},
   "outputs": [
    {
     "data": {
      "text/plain": [
       "array(['$50,000-74,999', '$25,000-49,999', '$100,000+', '$75,000-99,999',\n",
       "       '$1-24,999', '$0'], dtype=object)"
      ]
     },
     "execution_count": 46,
     "metadata": {},
     "output_type": "execute_result"
    }
   ],
   "source": [
    "# change 'Not employed' into '$0' in our data \n",
    "dfscaled[\"IncomeRange\"].replace( ['Not employed'] ,'$0', inplace=True)\n",
    "#checking\n",
    "unique_values_in_str_dtype = dfscaled[\"IncomeRange\"].unique()\n",
    "unique_values_in_str_dtype"
   ]
  },
  {
   "cell_type": "code",
   "execution_count": 47,
   "id": "9c205ff8",
   "metadata": {},
   "outputs": [
    {
     "data": {
      "text/plain": [
       "array([4., 3., 2., 5., 1., 0.])"
      ]
     },
     "execution_count": 47,
     "metadata": {},
     "output_type": "execute_result"
    }
   ],
   "source": [
    "dfscaled['IncomeRange']= ordinal_encoder.fit_transform( dfscaled.loc[:,['IncomeRange']] )\n",
    "  \n",
    "dfscaled['IncomeRange'].unique()"
   ]
  },
  {
   "cell_type": "markdown",
   "id": "8b4db2da",
   "metadata": {},
   "source": [
    "## Model Building Without feature selection"
   ]
  },
  {
   "cell_type": "markdown",
   "id": "7a18f1c9",
   "metadata": {},
   "source": [
    "We will build a baseline model with all the features to see how it compares with model after feature selection and hyperparameter tuning"
   ]
  },
  {
   "cell_type": "markdown",
   "id": "090c0450",
   "metadata": {},
   "source": [
    "Since, LoanStatus is our target variable Let's first convert our LoanStatus variable into a binary variable excluding current loans"
   ]
  },
  {
   "cell_type": "code",
   "execution_count": 48,
   "id": "c2409c9e",
   "metadata": {},
   "outputs": [
    {
     "data": {
      "text/plain": [
       "Current                   55268\n",
       "Completed                 19481\n",
       "Chargedoff                 5324\n",
       "Defaulted                   997\n",
       "Past Due (1-15 days)        798\n",
       "Past Due (31-60 days)       358\n",
       "Past Due (61-90 days)       313\n",
       "Past Due (91-120 days)      304\n",
       "Past Due (16-30 days)       264\n",
       "FinalPaymentInProgress      203\n",
       "Past Due (>120 days)         16\n",
       "Name: LoanStatus, dtype: int64"
      ]
     },
     "execution_count": 48,
     "metadata": {},
     "output_type": "execute_result"
    }
   ],
   "source": [
    "dfscaled[\"LoanStatus\"].value_counts()"
   ]
  },
  {
   "cell_type": "markdown",
   "id": "2ae08db5",
   "metadata": {},
   "source": [
    "What is really of interest to us is what distinguishes **completed loans** from **defaulted loans**. Because there is no way to tell whether **\"current\"** loans will eventually default or not, we can't use them for our analysis. Nearly half of the dataset is not useful to us, as the loans are still outstanding. In order to be conservative in our eventual estimates, to simplify the problem, and to retain data, let's assume all the \"past due\" and \"chargedoff\" loans (and that 1 cancellation) will default. Thus we'll be left with two classes: \"completed\" and \"defaulted\". Let's encode those binary outcomes as 1 and 0, respectively."
   ]
  },
  {
   "cell_type": "code",
   "execution_count": 49,
   "id": "d475a052",
   "metadata": {},
   "outputs": [
    {
     "data": {
      "text/plain": [
       "Completed                 19481\n",
       "Chargedoff                 5324\n",
       "Defaulted                   997\n",
       "Past Due (1-15 days)        798\n",
       "Past Due (31-60 days)       358\n",
       "Past Due (61-90 days)       313\n",
       "Past Due (91-120 days)      304\n",
       "Past Due (16-30 days)       264\n",
       "FinalPaymentInProgress      203\n",
       "Past Due (>120 days)         16\n",
       "Name: LoanStatus, dtype: int64"
      ]
     },
     "execution_count": 49,
     "metadata": {},
     "output_type": "execute_result"
    }
   ],
   "source": [
    "#Remove outstanding loans\n",
    "\n",
    "dfmodel = dfscaled[dfscaled[\"LoanStatus\"] != \"Current\"]\n",
    "\n",
    "dfmodel[\"LoanStatus\"].value_counts()"
   ]
  },
  {
   "cell_type": "code",
   "execution_count": 50,
   "id": "3d6d16e2",
   "metadata": {},
   "outputs": [
    {
     "data": {
      "text/plain": [
       "9     0\n",
       "12    0\n",
       "18    0\n",
       "21    1\n",
       "22    1\n",
       "25    1\n",
       "28    1\n",
       "48    0\n",
       "54    1\n",
       "58    1\n",
       "Name: LoanStatus, dtype: int64"
      ]
     },
     "execution_count": 50,
     "metadata": {},
     "output_type": "execute_result"
    }
   ],
   "source": [
    "#Encode all completed loans as 1, and all delinquent, chargedoff, cancelled and defaulted loans as 0\n",
    "\n",
    "dfmodel[\"LoanStatus\"] = (dfmodel[\"LoanStatus\"] == \"Completed\").astype(int)\n",
    "\n",
    "dfmodel[\"LoanStatus\"][:10]"
   ]
  },
  {
   "cell_type": "code",
   "execution_count": 51,
   "id": "3b525b33",
   "metadata": {},
   "outputs": [
    {
     "data": {
      "text/plain": [
       "<AxesSubplot:xlabel='LoanStatus', ylabel='count'>"
      ]
     },
     "execution_count": 51,
     "metadata": {},
     "output_type": "execute_result"
    },
    {
     "data": {
      "image/png": "[encoded data removed]",
      "text/plain": [
       "<Figure size 432x288 with 1 Axes>"
      ]
     },
     "metadata": {
      "needs_background": "light"
     },
     "output_type": "display_data"
    }
   ],
   "source": [
    "fig = plt.figure()\n",
    "\n",
    "ax1 = fig.add_subplot(221)\n",
    "sns.countplot(dfmodel[\"LoanStatus\"])"
   ]
  },
  {
   "cell_type": "markdown",
   "id": "cb8baacb",
   "metadata": {},
   "source": [
    "#### Fixing Data Types"
   ]
  },
  {
   "cell_type": "markdown",
   "id": "99eccf92",
   "metadata": {},
   "source": [
    "We will convert all the boolean values to 0's and 1's"
   ]
  },
  {
   "cell_type": "code",
   "execution_count": 52,
   "id": "4d97fb67",
   "metadata": {},
   "outputs": [
    {
     "name": "stdout",
     "output_type": "stream",
     "text": [
      "<class 'pandas.core.frame.DataFrame'>\n",
      "Int64Index: 28058 entries, 9 to 83324\n",
      "Data columns (total 75 columns):\n",
      " #   Column                              Non-Null Count  Dtype  \n",
      "---  ------                              --------------  -----  \n",
      " 0   ListingKey                          28058 non-null  object \n",
      " 1   ListingNumber                       28058 non-null  int64  \n",
      " 2   ListingCreationDate                 28058 non-null  object \n",
      " 3   Term                                28058 non-null  int64  \n",
      " 4   LoanStatus                          28058 non-null  int64  \n",
      " 5   BorrowerAPR                         28058 non-null  float64\n",
      " 6   BorrowerRate                        28058 non-null  float64\n",
      " 7   LenderYield                         28058 non-null  float64\n",
      " 8   EstimatedEffectiveYield             28058 non-null  float64\n",
      " 9   EstimatedLoss                       28058 non-null  float64\n",
      " 10  EstimatedReturn                     28058 non-null  float64\n",
      " 11  ProsperRating (numeric)             28058 non-null  float64\n",
      " 12  ProsperRating (Alpha)               28058 non-null  float64\n",
      " 13  ProsperScore                        28058 non-null  float64\n",
      " 14  ListingCategory (numeric)           28058 non-null  int64  \n",
      " 15  BorrowerState                       28058 non-null  int64  \n",
      " 16  Occupation                          28058 non-null  int64  \n",
      " 17  EmploymentStatusDuration            28058 non-null  float64\n",
      " 18  IsBorrowerHomeowner                 28058 non-null  bool   \n",
      " 19  CurrentlyInGroup                    28058 non-null  bool   \n",
      " 20  DateCreditPulled                    28058 non-null  object \n",
      " 21  CreditScoreRangeLower               28058 non-null  float64\n",
      " 22  CreditScoreRangeUpper               28058 non-null  float64\n",
      " 23  FirstRecordedCreditLine             28058 non-null  object \n",
      " 24  CurrentCreditLines                  28058 non-null  float64\n",
      " 25  OpenCreditLines                     28058 non-null  float64\n",
      " 26  TotalCreditLinespast7years          28058 non-null  float64\n",
      " 27  OpenRevolvingAccounts               28058 non-null  int64  \n",
      " 28  OpenRevolvingMonthlyPayment         28058 non-null  float64\n",
      " 29  InquiriesLast6Months                28058 non-null  float64\n",
      " 30  TotalInquiries                      28058 non-null  float64\n",
      " 31  CurrentDelinquencies                28058 non-null  float64\n",
      " 32  AmountDelinquent                    28058 non-null  float64\n",
      " 33  DelinquenciesLast7Years             28058 non-null  float64\n",
      " 34  PublicRecordsLast10Years            28058 non-null  float64\n",
      " 35  PublicRecordsLast12Months           28058 non-null  float64\n",
      " 36  RevolvingCreditBalance              28058 non-null  float64\n",
      " 37  BankcardUtilization                 28058 non-null  float64\n",
      " 38  AvailableBankcardCredit             28058 non-null  float64\n",
      " 39  TotalTrades                         28058 non-null  float64\n",
      " 40  TradesNeverDelinquent (percentage)  28058 non-null  float64\n",
      " 41  TradesOpenedLast6Months             28058 non-null  float64\n",
      " 42  DebtToIncomeRatio                   28058 non-null  float64\n",
      " 43  IncomeRange                         28058 non-null  float64\n",
      " 44  IncomeVerifiable                    28058 non-null  bool   \n",
      " 45  StatedMonthlyIncome                 28058 non-null  float64\n",
      " 46  LoanKey                             28058 non-null  object \n",
      " 47  LoanCurrentDaysDelinquent           28058 non-null  int64  \n",
      " 48  LoanMonthsSinceOrigination          28058 non-null  int64  \n",
      " 49  LoanNumber                          28058 non-null  int64  \n",
      " 50  LoanOriginalAmount                  28058 non-null  int64  \n",
      " 51  LoanOriginationDate                 28058 non-null  object \n",
      " 52  LoanOriginationQuarter              28058 non-null  object \n",
      " 53  MemberKey                           28058 non-null  object \n",
      " 54  MonthlyLoanPayment                  28058 non-null  float64\n",
      " 55  LP_CustomerPayments                 28058 non-null  float64\n",
      " 56  LP_CustomerPrincipalPayments        28058 non-null  float64\n",
      " 57  LP_InterestandFees                  28058 non-null  float64\n",
      " 58  LP_ServiceFees                      28058 non-null  float64\n",
      " 59  LP_CollectionFees                   28058 non-null  float64\n",
      " 60  LP_GrossPrincipalLoss               28058 non-null  float64\n",
      " 61  LP_NetPrincipalLoss                 28058 non-null  float64\n",
      " 62  LP_NonPrincipalRecoverypayments     28058 non-null  float64\n",
      " 63  PercentFunded                       28058 non-null  float64\n",
      " 64  Recommendations                     28058 non-null  int64  \n",
      " 65  InvestmentFromFriendsCount          28058 non-null  int64  \n",
      " 66  InvestmentFromFriendsAmount         28058 non-null  float64\n",
      " 67  Investors                           28058 non-null  int64  \n",
      " 68  Employed                            28058 non-null  float64\n",
      " 69  Other                               28058 non-null  float64\n",
      " 70  Full-time                           28058 non-null  float64\n",
      " 71  Self-employed                       28058 non-null  float64\n",
      " 72  Not employed                        28058 non-null  float64\n",
      " 73  Retired                             28058 non-null  float64\n",
      " 74  Part-time                           28058 non-null  float64\n",
      "dtypes: bool(3), float64(50), int64(14), object(8)\n",
      "memory usage: 15.7+ MB\n"
     ]
    }
   ],
   "source": [
    "dfmodel.info()"
   ]
  },
  {
   "cell_type": "code",
   "execution_count": 53,
   "id": "8cd355f6",
   "metadata": {},
   "outputs": [
    {
     "data": {
      "text/plain": [
       "(9     0\n",
       " 12    1\n",
       " 18    0\n",
       " 21    0\n",
       " 22    1\n",
       " 25    0\n",
       " 28    0\n",
       " 48    1\n",
       " 54    0\n",
       " 58    0\n",
       " Name: IsBorrowerHomeowner, dtype: int64,\n",
       " 9     1\n",
       " 12    1\n",
       " 18    1\n",
       " 21    1\n",
       " 22    1\n",
       " 25    1\n",
       " 28    1\n",
       " 48    1\n",
       " 54    1\n",
       " 58    1\n",
       " Name: IncomeVerifiable, dtype: int64,\n",
       " 9     0\n",
       " 12    0\n",
       " 18    0\n",
       " 21    0\n",
       " 22    0\n",
       " 25    0\n",
       " 28    0\n",
       " 48    0\n",
       " 54    0\n",
       " 58    0\n",
       " Name: CurrentlyInGroup, dtype: int64)"
      ]
     },
     "execution_count": 53,
     "metadata": {},
     "output_type": "execute_result"
    }
   ],
   "source": [
    "dfmodel[\"IsBorrowerHomeowner\"] = dfmodel[\"IsBorrowerHomeowner\"].astype(int)\n",
    "dfmodel[\"IncomeVerifiable\"] = dfmodel[\"IncomeVerifiable\"].astype(int)\n",
    "dfmodel[\"CurrentlyInGroup\"] = dfmodel[\"CurrentlyInGroup\"].astype(int)\n",
    "dfmodel[\"IsBorrowerHomeowner\"][:10], dfmodel[\"IncomeVerifiable\"][:10], dfmodel[\"CurrentlyInGroup\"][:10]"
   ]
  },
  {
   "cell_type": "markdown",
   "id": "eee6fa47",
   "metadata": {},
   "source": [
    "The length of credit history could potentially be a very powerful feature. Let's try turning this variable into a \"YearsWithCredit\" variable that will take continuous integer values rather than being a datetime object. This data comes from 2014, so let's compare the earliest recorded credit lines to 2014."
   ]
  },
  {
   "cell_type": "code",
   "execution_count": 54,
   "id": "bfbf73ee",
   "metadata": {},
   "outputs": [
    {
     "data": {
      "text/plain": [
       "9     18\n",
       "12    15\n",
       "18    16\n",
       "21    39\n",
       "22    14\n",
       "25    26\n",
       "28    11\n",
       "48    22\n",
       "54    14\n",
       "58    15\n",
       "Name: YearsWithCredit, dtype: int64"
      ]
     },
     "execution_count": 54,
     "metadata": {},
     "output_type": "execute_result"
    }
   ],
   "source": [
    "first_credit_year = dfmodel[\"FirstRecordedCreditLine\"].str[:4]\n",
    "\n",
    "dfmodel[\"YearsWithCredit\"] = 2014 - pd.to_numeric(first_credit_year)\n",
    "\n",
    "dfmodel.drop(\"FirstRecordedCreditLine\", axis=1, inplace=True)\n",
    "\n",
    "dfmodel[\"YearsWithCredit\"][:10]"
   ]
  },
  {
   "cell_type": "markdown",
   "id": "e5e4d92a",
   "metadata": {},
   "source": [
    "Finally lets drop redundant and irrelevant columns such as ids"
   ]
  },
  {
   "cell_type": "code",
   "execution_count": 55,
   "id": "dc6410c2",
   "metadata": {},
   "outputs": [],
   "source": [
    "dfmodel.drop([\"ListingKey\", \"ListingNumber\", \"LoanKey\", \"LoanNumber\"], axis=1, inplace=True)"
   ]
  },
  {
   "cell_type": "markdown",
   "id": "703a15d0",
   "metadata": {},
   "source": [
    "Dropping variables which would be useful for other research questions"
   ]
  },
  {
   "cell_type": "code",
   "execution_count": 56,
   "id": "c940cb57",
   "metadata": {},
   "outputs": [],
   "source": [
    "dfmodel.drop([\"ListingCreationDate\", \"DateCreditPulled\", \"LoanOriginationDate\", \"LoanOriginationQuarter\", \"MemberKey\"], \n",
    "        axis=1, inplace=True)"
   ]
  },
  {
   "cell_type": "code",
   "execution_count": 57,
   "id": "bb0dedfb",
   "metadata": {},
   "outputs": [],
   "source": [
    "base_features=['LoanCurrentDaysDelinquent','LP_CustomerPrincipalPayments','LP_GrossPrincipalLoss','LP_CustomerPayments','LP_InterestandFees','LP_ServiceFees','MonthlyLoanPayment','AvailableBankcardCredit','RevolvingCreditBalance']"
   ]
  },
  {
   "cell_type": "markdown",
   "id": "ad0a691f",
   "metadata": {},
   "source": [
    "## Final Model Building"
   ]
  },
  {
   "cell_type": "markdown",
   "id": "cc1b69f6",
   "metadata": {},
   "source": [
    "Since, our baseline model performed the best we will build the final model according to it"
   ]
  },
  {
   "cell_type": "code",
   "execution_count": 58,
   "id": "d5c9ba6b",
   "metadata": {},
   "outputs": [
    {
     "name": "stdout",
     "output_type": "stream",
     "text": [
      "train size X :  (22446, 9)\n",
      "train size y :  (22446,)\n",
      "test size X :  (5612, 9)\n",
      "test size y :  (5612,)\n"
     ]
    }
   ],
   "source": [
    "from sklearn.model_selection import train_test_split\n",
    "y = dfmodel.pop(\"LoanStatus\")\n",
    "X = dfmodel[base_features]\n",
    "#Let’s split X and y using Train test split\n",
    "X_train,X_test,y_train,y_test = train_test_split(X,y,random_state=42,train_size=0.8)\n",
    "#get shape of train and test data\n",
    "print(\"train size X : \",X_train.shape)\n",
    "print(\"train size y : \",y_train.shape)\n",
    "print(\"test size X : \",X_test.shape)\n",
    "print(\"test size y : \",y_test.shape)"
   ]
  },
  {
   "cell_type": "code",
   "execution_count": 59,
   "id": "65b9cb29-f1fc-4e63-8447-f0865fd7af9f",
   "metadata": {},
   "outputs": [],
   "source": [
    "from sklearn.pipeline import Pipeline ,FeatureUnion\n",
    "from sklearn.impute import SimpleImputer\n",
    "#building a pipeline for a numerical features\n",
    "num_pipeline = Pipeline(steps=[\n",
    "                        ('imputer',SimpleImputer(strategy='median')),\n",
    "                        ('scaler',StandardScaler())\n",
    "                    ])\n",
    "\n",
    "## deal with (num_pipline) as an instance -- fit and transform to train dataset and transform only to other datasets\n",
    "X_train = num_pipeline.fit_transform(X_train)  ## train\n",
    "X_test = num_pipeline.transform(X_test)  ## test"
   ]
  },
  {
   "cell_type": "code",
   "execution_count": 60,
   "id": "e4f05908-4356-45e9-b696-59d7b69410d3",
   "metadata": {},
   "outputs": [],
   "source": [
    "pd.set_option(\"display.max_columns\", None)"
   ]
  },
  {
   "cell_type": "code",
   "execution_count": 62,
   "id": "374cba2d-f7da-46f6-89bb-994c29bbc2fd",
   "metadata": {},
   "outputs": [
    {
     "data": {
      "text/plain": [
       "array([[-0.44704515,  0.01922881, -0.39837793, ..., -0.46479992,\n",
       "        -0.47489506, -0.46945782],\n",
       "       [-0.44704515,  2.71385247, -0.39837793, ...,  2.03089117,\n",
       "         0.41948845,  0.11683926],\n",
       "       [ 0.63609904, -0.99861761,  1.35932156, ..., -0.19157922,\n",
       "         0.15661563, -0.48578071],\n",
       "       ...,\n",
       "       [ 3.42015027, -0.99550013,  0.28010097, ..., -0.88200733,\n",
       "        -0.53008728, -0.50688104],\n",
       "       [-0.44704515,  0.74470234, -0.39837793, ...,  0.23996785,\n",
       "         0.01697497,  0.65274106],\n",
       "       [-0.44704515, -0.18805201, -0.39837793, ..., -0.42142687,\n",
       "        -0.4757612 ,  0.21185707]])"
      ]
     },
     "execution_count": 62,
     "metadata": {},
     "output_type": "execute_result"
    }
   ],
   "source": [
    "X_train"
   ]
  },
  {
   "cell_type": "code",
   "execution_count": 63,
   "id": "0e5e9dfd",
   "metadata": {},
   "outputs": [
    {
     "data": {
      "text/html": [
       "<style>#sk-container-id-1 {color: black;background-color: white;}#sk-container-id-1 pre{padding: 0;}#sk-container-id-1 div.sk-toggleable {background-color: white;}#sk-container-id-1 label.sk-toggleable__label {cursor: pointer;display: block;width: 100%;margin-bottom: 0;padding: 0.3em;box-sizing: border-box;text-align: center;}#sk-container-id-1 label.sk-toggleable__label-arrow:before {content: \"▸\";float: left;margin-right: 0.25em;color: #696969;}#sk-container-id-1 label.sk-toggleable__label-arrow:hover:before {color: black;}#sk-container-id-1 div.sk-estimator:hover label.sk-toggleable__label-arrow:before {color: black;}#sk-container-id-1 div.sk-toggleable__content {max-height: 0;max-width: 0;overflow: hidden;text-align: left;background-color: #f0f8ff;}#sk-container-id-1 div.sk-toggleable__content pre {margin: 0.2em;color: black;border-radius: 0.25em;background-color: #f0f8ff;}#sk-container-id-1 input.sk-toggleable__control:checked~div.sk-toggleable__content {max-height: 200px;max-width: 100%;overflow: auto;}#sk-container-id-1 input.sk-toggleable__control:checked~label.sk-toggleable__label-arrow:before {content: \"▾\";}#sk-container-id-1 div.sk-estimator input.sk-toggleable__control:checked~label.sk-toggleable__label {background-color: #d4ebff;}#sk-container-id-1 div.sk-label input.sk-toggleable__control:checked~label.sk-toggleable__label {background-color: #d4ebff;}#sk-container-id-1 input.sk-hidden--visually {border: 0;clip: rect(1px 1px 1px 1px);clip: rect(1px, 1px, 1px, 1px);height: 1px;margin: -1px;overflow: hidden;padding: 0;position: absolute;width: 1px;}#sk-container-id-1 div.sk-estimator {font-family: monospace;background-color: #f0f8ff;border: 1px dotted black;border-radius: 0.25em;box-sizing: border-box;margin-bottom: 0.5em;}#sk-container-id-1 div.sk-estimator:hover {background-color: #d4ebff;}#sk-container-id-1 div.sk-parallel-item::after {content: \"\";width: 100%;border-bottom: 1px solid gray;flex-grow: 1;}#sk-container-id-1 div.sk-label:hover label.sk-toggleable__label {background-color: #d4ebff;}#sk-container-id-1 div.sk-serial::before {content: \"\";position: absolute;border-left: 1px solid gray;box-sizing: border-box;top: 0;bottom: 0;left: 50%;z-index: 0;}#sk-container-id-1 div.sk-serial {display: flex;flex-direction: column;align-items: center;background-color: white;padding-right: 0.2em;padding-left: 0.2em;position: relative;}#sk-container-id-1 div.sk-item {position: relative;z-index: 1;}#sk-container-id-1 div.sk-parallel {display: flex;align-items: stretch;justify-content: center;background-color: white;position: relative;}#sk-container-id-1 div.sk-item::before, #sk-container-id-1 div.sk-parallel-item::before {content: \"\";position: absolute;border-left: 1px solid gray;box-sizing: border-box;top: 0;bottom: 0;left: 50%;z-index: -1;}#sk-container-id-1 div.sk-parallel-item {display: flex;flex-direction: column;z-index: 1;position: relative;background-color: white;}#sk-container-id-1 div.sk-parallel-item:first-child::after {align-self: flex-end;width: 50%;}#sk-container-id-1 div.sk-parallel-item:last-child::after {align-self: flex-start;width: 50%;}#sk-container-id-1 div.sk-parallel-item:only-child::after {width: 0;}#sk-container-id-1 div.sk-dashed-wrapped {border: 1px dashed gray;margin: 0 0.4em 0.5em 0.4em;box-sizing: border-box;padding-bottom: 0.4em;background-color: white;}#sk-container-id-1 div.sk-label label {font-family: monospace;font-weight: bold;display: inline-block;line-height: 1.2em;}#sk-container-id-1 div.sk-label-container {text-align: center;}#sk-container-id-1 div.sk-container {/* jupyter's `normalize.less` sets `[hidden] { display: none; }` but bootstrap.min.css set `[hidden] { display: none !important; }` so we also need the `!important` here to be able to override the default hidden behavior on the sphinx rendered scikit-learn.org. See: https://github.com/scikit-learn/scikit-learn/issues/21755 */display: inline-block !important;position: relative;}#sk-container-id-1 div.sk-text-repr-fallback {display: none;}</style><div id=\"sk-container-id-1\" class=\"sk-top-container\"><div class=\"sk-text-repr-fallback\"><pre>LogisticRegression(class_weight={0: 0.6, 1: 0.4})</pre><b>In a Jupyter environment, please rerun this cell to show the HTML representation or trust the notebook. <br />On GitHub, the HTML representation is unable to render, please try loading this page with nbviewer.org.</b></div><div class=\"sk-container\" hidden><div class=\"sk-item\"><div class=\"sk-estimator sk-toggleable\"><input class=\"sk-toggleable__control sk-hidden--visually\" id=\"sk-estimator-id-1\" type=\"checkbox\" checked><label for=\"sk-estimator-id-1\" class=\"sk-toggleable__label sk-toggleable__label-arrow\">LogisticRegression</label><div class=\"sk-toggleable__content\"><pre>LogisticRegression(class_weight={0: 0.6, 1: 0.4})</pre></div></div></div></div></div>"
      ],
      "text/plain": [
       "LogisticRegression(class_weight={0: 0.6, 1: 0.4})"
      ]
     },
     "execution_count": 63,
     "metadata": {},
     "output_type": "execute_result"
    }
   ],
   "source": [
    "from sklearn.linear_model import LogisticRegression\n",
    "lr_final =LogisticRegression(class_weight={0:0.6,1:0.4})\n",
    "# train model to learn relationships between input and output variables\n",
    "lr_final.fit(X_train,y_train)"
   ]
  },
  {
   "cell_type": "code",
   "execution_count": 64,
   "id": "439cc468",
   "metadata": {},
   "outputs": [],
   "source": [
    "y_pred_finalmodel = lr_final.predict(X_test)"
   ]
  },
  {
   "cell_type": "code",
   "execution_count": 65,
   "id": "0af4b989",
   "metadata": {},
   "outputs": [
    {
     "name": "stdout",
     "output_type": "stream",
     "text": [
      "f1 score for base model is :  0.9957490660827\n"
     ]
    }
   ],
   "source": [
    "from sklearn.metrics import f1_score\n",
    "print(\"f1 score for base model is : \" , f1_score(y_test,y_pred_finalmodel))"
   ]
  },
  {
   "cell_type": "code",
   "execution_count": 66,
   "id": "513f98d1",
   "metadata": {},
   "outputs": [
    {
     "name": "stdout",
     "output_type": "stream",
     "text": [
      "Train Accuracy-Score of Logistic Regression: 0.9927826784282278\n",
      "Test  Accuracy-Score of Logistic Regression: 0.9941197434069851\n"
     ]
    }
   ],
   "source": [
    "print('Train Accuracy-Score of Logistic Regression: {}'.format(lr_final.score(X_train, y_train)))\n",
    "print('Test  Accuracy-Score of Logistic Regression: {}'.format(lr_final.score(X_test, y_test)))"
   ]
  },
  {
   "cell_type": "code",
   "execution_count": 67,
   "id": "dd5bcc35",
   "metadata": {},
   "outputs": [
    {
     "name": "stdout",
     "output_type": "stream",
     "text": [
      "confusion Matrix is : [[1714   32]\n",
      " [   1 3865]]\n",
      "n\n",
      "ROC-AUC score  test dataset:   0.995817503788128\n",
      "precision score  test dataset:   0.9917885552989479\n",
      "Recall score  test dataset:   0.9997413347128815\n",
      "f1 score  test dataset :   0.9957490660827\n"
     ]
    }
   ],
   "source": [
    "from sklearn.metrics import roc_auc_score\n",
    "from sklearn.metrics import precision_score\n",
    "from sklearn.metrics import recall_score\n",
    "from sklearn.metrics import confusion_matrix\n",
    "y_pred_prob_test = lr_final.predict_proba(X_test)[:, 1]\n",
    "#predict labels on test dataset\n",
    "y_pred_test = lr_final.predict(X_test)\n",
    "# create onfusion matrix\n",
    "cm = confusion_matrix(y_test, y_pred_test)\n",
    "print(\"confusion Matrix is :\",cm)\n",
    "print(\"n\")\n",
    "# ROC- AUC score\n",
    "print(\"ROC-AUC score  test dataset:  \", roc_auc_score(y_test,y_pred_prob_test))\n",
    "#Precision score\n",
    "print(\"precision score  test dataset:  \", precision_score(y_test,y_pred_test))\n",
    "#Recall Score\n",
    "print(\"Recall score  test dataset:  \", recall_score(y_test,y_pred_test))\n",
    "#f1 score\n",
    "print(\"f1 score  test dataset :  \", f1_score(y_test,y_pred_test))"
   ]
  },
  {
   "cell_type": "code",
   "execution_count": 68,
   "id": "ac571e4f",
   "metadata": {},
   "outputs": [
    {
     "name": "stdout",
     "output_type": "stream",
     "text": [
      "              precision    recall  f1-score   support\n",
      "\n",
      "           0       1.00      0.98      0.99      1746\n",
      "           1       0.99      1.00      1.00      3866\n",
      "\n",
      "    accuracy                           0.99      5612\n",
      "   macro avg       1.00      0.99      0.99      5612\n",
      "weighted avg       0.99      0.99      0.99      5612\n",
      "\n"
     ]
    }
   ],
   "source": [
    "# Classification Report\n",
    "from sklearn.metrics import classification_report\n",
    "print(classification_report(y_test, y_pred_test))"
   ]
  },
  {
   "cell_type": "markdown",
   "id": "bea3d36b",
   "metadata": {},
   "source": [
    "The classification report shows that our model has precision and recall extremely close to 1 thus showing that our model performs well"
   ]
  },
  {
   "cell_type": "code",
   "execution_count": 69,
   "id": "387fcbda",
   "metadata": {},
   "outputs": [
    {
     "data": {
      "image/png": "[encoded data removed]",
      "text/plain": [
       "<Figure size 432x288 with 1 Axes>"
      ]
     },
     "metadata": {
      "needs_background": "light"
     },
     "output_type": "display_data"
    }
   ],
   "source": [
    "from sklearn.metrics import precision_recall_curve\n",
    "#calculate precision and recall\n",
    "precision, recall, thresholds = precision_recall_curve(y_test, y_pred_prob_test)\n",
    "\n",
    "#create precision recall curve\n",
    "fig, ax = plt.subplots()\n",
    "ax.plot(recall, precision, color='purple')\n",
    "\n",
    "#add axis labels to plot\n",
    "ax.set_title('Precision-Recall Curve')\n",
    "ax.set_ylabel('Precision')\n",
    "ax.set_xlabel('Recall')\n",
    "\n",
    "#display plot\n",
    "plt.show()"
   ]
  },
  {
   "cell_type": "markdown",
   "id": "2e9125b2",
   "metadata": {},
   "source": [
    "The precision recall curve is also very close to perfect"
   ]
  },
  {
   "cell_type": "code",
   "execution_count": 70,
   "id": "48484788",
   "metadata": {},
   "outputs": [
    {
     "data": {
      "text/html": [
       "<div>\n",
       "<style scoped>\n",
       "    .dataframe tbody tr th:only-of-type {\n",
       "        vertical-align: middle;\n",
       "    }\n",
       "\n",
       "    .dataframe tbody tr th {\n",
       "        vertical-align: top;\n",
       "    }\n",
       "\n",
       "    .dataframe thead th {\n",
       "        text-align: right;\n",
       "    }\n",
       "</style>\n",
       "<table border=\"1\" class=\"dataframe\">\n",
       "  <thead>\n",
       "    <tr style=\"text-align: right;\">\n",
       "      <th></th>\n",
       "      <th>LoanCurrentDaysDelinquent</th>\n",
       "      <th>LP_CustomerPrincipalPayments</th>\n",
       "      <th>LP_GrossPrincipalLoss</th>\n",
       "      <th>LP_CustomerPayments</th>\n",
       "      <th>LP_InterestandFees</th>\n",
       "      <th>LP_ServiceFees</th>\n",
       "      <th>MonthlyLoanPayment</th>\n",
       "      <th>AvailableBankcardCredit</th>\n",
       "      <th>RevolvingCreditBalance</th>\n",
       "      <th>LoanStatus</th>\n",
       "    </tr>\n",
       "  </thead>\n",
       "  <tbody>\n",
       "    <tr>\n",
       "      <th>0</th>\n",
       "      <td>0</td>\n",
       "      <td>0.00</td>\n",
       "      <td>0.0</td>\n",
       "      <td>0.0000</td>\n",
       "      <td>0.0000</td>\n",
       "      <td>0.00</td>\n",
       "      <td>318.93</td>\n",
       "      <td>10266.0</td>\n",
       "      <td>3989.0</td>\n",
       "      <td>Current</td>\n",
       "    </tr>\n",
       "    <tr>\n",
       "      <th>1</th>\n",
       "      <td>0</td>\n",
       "      <td>4091.09</td>\n",
       "      <td>0.0</td>\n",
       "      <td>5143.2000</td>\n",
       "      <td>1052.1100</td>\n",
       "      <td>-108.01</td>\n",
       "      <td>321.45</td>\n",
       "      <td>30754.0</td>\n",
       "      <td>1444.0</td>\n",
       "      <td>Current</td>\n",
       "    </tr>\n",
       "    <tr>\n",
       "      <th>2</th>\n",
       "      <td>0</td>\n",
       "      <td>1563.22</td>\n",
       "      <td>0.0</td>\n",
       "      <td>2819.8500</td>\n",
       "      <td>1256.6300</td>\n",
       "      <td>-60.27</td>\n",
       "      <td>563.97</td>\n",
       "      <td>695.0</td>\n",
       "      <td>6193.0</td>\n",
       "      <td>Current</td>\n",
       "    </tr>\n",
       "    <tr>\n",
       "      <th>3</th>\n",
       "      <td>0</td>\n",
       "      <td>351.89</td>\n",
       "      <td>0.0</td>\n",
       "      <td>679.3400</td>\n",
       "      <td>327.4500</td>\n",
       "      <td>-25.33</td>\n",
       "      <td>342.37</td>\n",
       "      <td>86509.0</td>\n",
       "      <td>62999.0</td>\n",
       "      <td>Current</td>\n",
       "    </tr>\n",
       "    <tr>\n",
       "      <th>4</th>\n",
       "      <td>0</td>\n",
       "      <td>604.25</td>\n",
       "      <td>0.0</td>\n",
       "      <td>1226.7000</td>\n",
       "      <td>622.4500</td>\n",
       "      <td>-22.95</td>\n",
       "      <td>122.67</td>\n",
       "      <td>1929.0</td>\n",
       "      <td>5812.0</td>\n",
       "      <td>Current</td>\n",
       "    </tr>\n",
       "    <tr>\n",
       "      <th>...</th>\n",
       "      <td>...</td>\n",
       "      <td>...</td>\n",
       "      <td>...</td>\n",
       "      <td>...</td>\n",
       "      <td>...</td>\n",
       "      <td>...</td>\n",
       "      <td>...</td>\n",
       "      <td>...</td>\n",
       "      <td>...</td>\n",
       "      <td>...</td>\n",
       "    </tr>\n",
       "    <tr>\n",
       "      <th>84667</th>\n",
       "      <td>0</td>\n",
       "      <td>2238.38</td>\n",
       "      <td>0.0</td>\n",
       "      <td>3647.4000</td>\n",
       "      <td>1409.0200</td>\n",
       "      <td>-75.58</td>\n",
       "      <td>364.74</td>\n",
       "      <td>1886.0</td>\n",
       "      <td>7714.0</td>\n",
       "      <td>Current</td>\n",
       "    </tr>\n",
       "    <tr>\n",
       "      <th>84668</th>\n",
       "      <td>0</td>\n",
       "      <td>1997.16</td>\n",
       "      <td>0.0</td>\n",
       "      <td>2330.5500</td>\n",
       "      <td>333.3900</td>\n",
       "      <td>-30.05</td>\n",
       "      <td>65.57</td>\n",
       "      <td>6658.0</td>\n",
       "      <td>15743.0</td>\n",
       "      <td>FinalPaymentInProgress</td>\n",
       "    </tr>\n",
       "    <tr>\n",
       "      <th>84669</th>\n",
       "      <td>0</td>\n",
       "      <td>183.15</td>\n",
       "      <td>0.0</td>\n",
       "      <td>546.7000</td>\n",
       "      <td>363.5500</td>\n",
       "      <td>-16.91</td>\n",
       "      <td>273.35</td>\n",
       "      <td>7853.0</td>\n",
       "      <td>22147.0</td>\n",
       "      <td>Current</td>\n",
       "    </tr>\n",
       "    <tr>\n",
       "      <th>84670</th>\n",
       "      <td>0</td>\n",
       "      <td>15000.00</td>\n",
       "      <td>0.0</td>\n",
       "      <td>21122.5600</td>\n",
       "      <td>6122.5600</td>\n",
       "      <td>-235.05</td>\n",
       "      <td>449.55</td>\n",
       "      <td>4137.0</td>\n",
       "      <td>11956.0</td>\n",
       "      <td>Completed</td>\n",
       "    </tr>\n",
       "    <tr>\n",
       "      <th>84671</th>\n",
       "      <td>0</td>\n",
       "      <td>47.25</td>\n",
       "      <td>0.0</td>\n",
       "      <td>64.3307</td>\n",
       "      <td>17.0807</td>\n",
       "      <td>-1.70</td>\n",
       "      <td>64.90</td>\n",
       "      <td>675.0</td>\n",
       "      <td>6166.0</td>\n",
       "      <td>Current</td>\n",
       "    </tr>\n",
       "  </tbody>\n",
       "</table>\n",
       "<p>83326 rows × 10 columns</p>\n",
       "</div>"
      ],
      "text/plain": [
       "       LoanCurrentDaysDelinquent  LP_CustomerPrincipalPayments  \\\n",
       "0                              0                          0.00   \n",
       "1                              0                       4091.09   \n",
       "2                              0                       1563.22   \n",
       "3                              0                        351.89   \n",
       "4                              0                        604.25   \n",
       "...                          ...                           ...   \n",
       "84667                          0                       2238.38   \n",
       "84668                          0                       1997.16   \n",
       "84669                          0                        183.15   \n",
       "84670                          0                      15000.00   \n",
       "84671                          0                         47.25   \n",
       "\n",
       "       LP_GrossPrincipalLoss  LP_CustomerPayments  LP_InterestandFees  \\\n",
       "0                        0.0               0.0000              0.0000   \n",
       "1                        0.0            5143.2000           1052.1100   \n",
       "2                        0.0            2819.8500           1256.6300   \n",
       "3                        0.0             679.3400            327.4500   \n",
       "4                        0.0            1226.7000            622.4500   \n",
       "...                      ...                  ...                 ...   \n",
       "84667                    0.0            3647.4000           1409.0200   \n",
       "84668                    0.0            2330.5500            333.3900   \n",
       "84669                    0.0             546.7000            363.5500   \n",
       "84670                    0.0           21122.5600           6122.5600   \n",
       "84671                    0.0              64.3307             17.0807   \n",
       "\n",
       "       LP_ServiceFees  MonthlyLoanPayment  AvailableBankcardCredit  \\\n",
       "0                0.00              318.93                  10266.0   \n",
       "1             -108.01              321.45                  30754.0   \n",
       "2              -60.27              563.97                    695.0   \n",
       "3              -25.33              342.37                  86509.0   \n",
       "4              -22.95              122.67                   1929.0   \n",
       "...               ...                 ...                      ...   \n",
       "84667          -75.58              364.74                   1886.0   \n",
       "84668          -30.05               65.57                   6658.0   \n",
       "84669          -16.91              273.35                   7853.0   \n",
       "84670         -235.05              449.55                   4137.0   \n",
       "84671           -1.70               64.90                    675.0   \n",
       "\n",
       "       RevolvingCreditBalance              LoanStatus  \n",
       "0                      3989.0                 Current  \n",
       "1                      1444.0                 Current  \n",
       "2                      6193.0                 Current  \n",
       "3                     62999.0                 Current  \n",
       "4                      5812.0                 Current  \n",
       "...                       ...                     ...  \n",
       "84667                  7714.0                 Current  \n",
       "84668                 15743.0  FinalPaymentInProgress  \n",
       "84669                 22147.0                 Current  \n",
       "84670                 11956.0               Completed  \n",
       "84671                  6166.0                 Current  \n",
       "\n",
       "[83326 rows x 10 columns]"
      ]
     },
     "execution_count": 70,
     "metadata": {},
     "output_type": "execute_result"
    }
   ],
   "source": [
    "base_features.append('LoanStatus')\n",
    "loans_dataset[base_features]"
   ]
  },
  {
   "cell_type": "code",
   "execution_count": 71,
   "id": "261396f8-2f5d-4e5d-835e-f167a1684964",
   "metadata": {},
   "outputs": [
    {
     "data": {
      "text/plain": [
       "['model_LR.pkl']"
      ]
     },
     "execution_count": 71,
     "metadata": {},
     "output_type": "execute_result"
    }
   ],
   "source": [
    "import os,joblib\n",
    "joblib.dump(lr_final,'model_LR.pkl')"
   ]
  },
  {
   "cell_type": "code",
   "execution_count": 72,
   "id": "4d0fc643-4755-4223-b7b0-b5052279e991",
   "metadata": {},
   "outputs": [
    {
     "data": {
      "text/html": [
       "<style>#sk-container-id-2 {color: black;background-color: white;}#sk-container-id-2 pre{padding: 0;}#sk-container-id-2 div.sk-toggleable {background-color: white;}#sk-container-id-2 label.sk-toggleable__label {cursor: pointer;display: block;width: 100%;margin-bottom: 0;padding: 0.3em;box-sizing: border-box;text-align: center;}#sk-container-id-2 label.sk-toggleable__label-arrow:before {content: \"▸\";float: left;margin-right: 0.25em;color: #696969;}#sk-container-id-2 label.sk-toggleable__label-arrow:hover:before {color: black;}#sk-container-id-2 div.sk-estimator:hover label.sk-toggleable__label-arrow:before {color: black;}#sk-container-id-2 div.sk-toggleable__content {max-height: 0;max-width: 0;overflow: hidden;text-align: left;background-color: #f0f8ff;}#sk-container-id-2 div.sk-toggleable__content pre {margin: 0.2em;color: black;border-radius: 0.25em;background-color: #f0f8ff;}#sk-container-id-2 input.sk-toggleable__control:checked~div.sk-toggleable__content {max-height: 200px;max-width: 100%;overflow: auto;}#sk-container-id-2 input.sk-toggleable__control:checked~label.sk-toggleable__label-arrow:before {content: \"▾\";}#sk-container-id-2 div.sk-estimator input.sk-toggleable__control:checked~label.sk-toggleable__label {background-color: #d4ebff;}#sk-container-id-2 div.sk-label input.sk-toggleable__control:checked~label.sk-toggleable__label {background-color: #d4ebff;}#sk-container-id-2 input.sk-hidden--visually {border: 0;clip: rect(1px 1px 1px 1px);clip: rect(1px, 1px, 1px, 1px);height: 1px;margin: -1px;overflow: hidden;padding: 0;position: absolute;width: 1px;}#sk-container-id-2 div.sk-estimator {font-family: monospace;background-color: #f0f8ff;border: 1px dotted black;border-radius: 0.25em;box-sizing: border-box;margin-bottom: 0.5em;}#sk-container-id-2 div.sk-estimator:hover {background-color: #d4ebff;}#sk-container-id-2 div.sk-parallel-item::after {content: \"\";width: 100%;border-bottom: 1px solid gray;flex-grow: 1;}#sk-container-id-2 div.sk-label:hover label.sk-toggleable__label {background-color: #d4ebff;}#sk-container-id-2 div.sk-serial::before {content: \"\";position: absolute;border-left: 1px solid gray;box-sizing: border-box;top: 0;bottom: 0;left: 50%;z-index: 0;}#sk-container-id-2 div.sk-serial {display: flex;flex-direction: column;align-items: center;background-color: white;padding-right: 0.2em;padding-left: 0.2em;position: relative;}#sk-container-id-2 div.sk-item {position: relative;z-index: 1;}#sk-container-id-2 div.sk-parallel {display: flex;align-items: stretch;justify-content: center;background-color: white;position: relative;}#sk-container-id-2 div.sk-item::before, #sk-container-id-2 div.sk-parallel-item::before {content: \"\";position: absolute;border-left: 1px solid gray;box-sizing: border-box;top: 0;bottom: 0;left: 50%;z-index: -1;}#sk-container-id-2 div.sk-parallel-item {display: flex;flex-direction: column;z-index: 1;position: relative;background-color: white;}#sk-container-id-2 div.sk-parallel-item:first-child::after {align-self: flex-end;width: 50%;}#sk-container-id-2 div.sk-parallel-item:last-child::after {align-self: flex-start;width: 50%;}#sk-container-id-2 div.sk-parallel-item:only-child::after {width: 0;}#sk-container-id-2 div.sk-dashed-wrapped {border: 1px dashed gray;margin: 0 0.4em 0.5em 0.4em;box-sizing: border-box;padding-bottom: 0.4em;background-color: white;}#sk-container-id-2 div.sk-label label {font-family: monospace;font-weight: bold;display: inline-block;line-height: 1.2em;}#sk-container-id-2 div.sk-label-container {text-align: center;}#sk-container-id-2 div.sk-container {/* jupyter's `normalize.less` sets `[hidden] { display: none; }` but bootstrap.min.css set `[hidden] { display: none !important; }` so we also need the `!important` here to be able to override the default hidden behavior on the sphinx rendered scikit-learn.org. See: https://github.com/scikit-learn/scikit-learn/issues/21755 */display: inline-block !important;position: relative;}#sk-container-id-2 div.sk-text-repr-fallback {display: none;}</style><div id=\"sk-container-id-2\" class=\"sk-top-container\"><div class=\"sk-text-repr-fallback\"><pre>LogisticRegression(class_weight={0: 0.6, 1: 0.4})</pre><b>In a Jupyter environment, please rerun this cell to show the HTML representation or trust the notebook. <br />On GitHub, the HTML representation is unable to render, please try loading this page with nbviewer.org.</b></div><div class=\"sk-container\" hidden><div class=\"sk-item\"><div class=\"sk-estimator sk-toggleable\"><input class=\"sk-toggleable__control sk-hidden--visually\" id=\"sk-estimator-id-2\" type=\"checkbox\" checked><label for=\"sk-estimator-id-2\" class=\"sk-toggleable__label sk-toggleable__label-arrow\">LogisticRegression</label><div class=\"sk-toggleable__content\"><pre>LogisticRegression(class_weight={0: 0.6, 1: 0.4})</pre></div></div></div></div></div>"
      ],
      "text/plain": [
       "LogisticRegression(class_weight={0: 0.6, 1: 0.4})"
      ]
     },
     "execution_count": 72,
     "metadata": {},
     "output_type": "execute_result"
    }
   ],
   "source": [
    "loaded_model = joblib.load('model_LR.pkl')\n",
    "loaded_model"
   ]
  },
  {
   "cell_type": "code",
   "execution_count": 73,
   "id": "9d943c76-e0bc-4457-bdac-312bb9027693",
   "metadata": {},
   "outputs": [
    {
     "name": "stdout",
     "output_type": "stream",
     "text": [
      "Train Accuracy-Score of Logistic Regression: 0.9927826784282278\n",
      "Test  Accuracy-Score of Logistic Regression: 0.9941197434069851\n"
     ]
    }
   ],
   "source": [
    "print('Train Accuracy-Score of Logistic Regression: {}'.format(loaded_model.score(X_train, y_train)))\n",
    "print('Test  Accuracy-Score of Logistic Regression: {}'.format(loaded_model.score(X_test, y_test)))"
   ]
  },
  {
   "cell_type": "code",
   "execution_count": 79,
   "id": "deef19a6-db8c-4592-9c01-61433b4d00d4",
   "metadata": {},
   "outputs": [
    {
     "data": {
      "text/html": [
       "<div>\n",
       "<style scoped>\n",
       "    .dataframe tbody tr th:only-of-type {\n",
       "        vertical-align: middle;\n",
       "    }\n",
       "\n",
       "    .dataframe tbody tr th {\n",
       "        vertical-align: top;\n",
       "    }\n",
       "\n",
       "    .dataframe thead th {\n",
       "        text-align: right;\n",
       "    }\n",
       "</style>\n",
       "<table border=\"1\" class=\"dataframe\">\n",
       "  <thead>\n",
       "    <tr style=\"text-align: right;\">\n",
       "      <th></th>\n",
       "      <th>LoanCurrentDaysDelinquent</th>\n",
       "      <th>LP_CustomerPrincipalPayments</th>\n",
       "      <th>LP_GrossPrincipalLoss</th>\n",
       "      <th>LP_CustomerPayments</th>\n",
       "      <th>LP_InterestandFees</th>\n",
       "      <th>LP_ServiceFees</th>\n",
       "      <th>MonthlyLoanPayment</th>\n",
       "      <th>AvailableBankcardCredit</th>\n",
       "      <th>RevolvingCreditBalance</th>\n",
       "    </tr>\n",
       "  </thead>\n",
       "  <tbody>\n",
       "    <tr>\n",
       "      <th>9</th>\n",
       "      <td>3</td>\n",
       "      <td>88.64</td>\n",
       "      <td>0.00</td>\n",
       "      <td>135.8174</td>\n",
       "      <td>47.1774</td>\n",
       "      <td>-3.40</td>\n",
       "      <td>137.39</td>\n",
       "      <td>3626.0</td>\n",
       "      <td>8624.0</td>\n",
       "    </tr>\n",
       "    <tr>\n",
       "      <th>12</th>\n",
       "      <td>140</td>\n",
       "      <td>209.75</td>\n",
       "      <td>3790.25</td>\n",
       "      <td>521.1300</td>\n",
       "      <td>311.3800</td>\n",
       "      <td>-9.81</td>\n",
       "      <td>173.71</td>\n",
       "      <td>178.0</td>\n",
       "      <td>9103.0</td>\n",
       "    </tr>\n",
       "    <tr>\n",
       "      <th>18</th>\n",
       "      <td>193</td>\n",
       "      <td>117.73</td>\n",
       "      <td>1882.27</td>\n",
       "      <td>236.0100</td>\n",
       "      <td>118.2800</td>\n",
       "      <td>-4.89</td>\n",
       "      <td>78.67</td>\n",
       "      <td>607.0</td>\n",
       "      <td>7975.0</td>\n",
       "    </tr>\n",
       "    <tr>\n",
       "      <th>21</th>\n",
       "      <td>0</td>\n",
       "      <td>4000.00</td>\n",
       "      <td>0.00</td>\n",
       "      <td>4725.3500</td>\n",
       "      <td>725.3500</td>\n",
       "      <td>-25.81</td>\n",
       "      <td>124.76</td>\n",
       "      <td>3619.0</td>\n",
       "      <td>2033.0</td>\n",
       "    </tr>\n",
       "    <tr>\n",
       "      <th>22</th>\n",
       "      <td>0</td>\n",
       "      <td>4000.00</td>\n",
       "      <td>0.00</td>\n",
       "      <td>4594.4800</td>\n",
       "      <td>594.4800</td>\n",
       "      <td>-64.62</td>\n",
       "      <td>0.00</td>\n",
       "      <td>30794.0</td>\n",
       "      <td>7246.0</td>\n",
       "    </tr>\n",
       "    <tr>\n",
       "      <th>...</th>\n",
       "      <td>...</td>\n",
       "      <td>...</td>\n",
       "      <td>...</td>\n",
       "      <td>...</td>\n",
       "      <td>...</td>\n",
       "      <td>...</td>\n",
       "      <td>...</td>\n",
       "      <td>...</td>\n",
       "      <td>...</td>\n",
       "    </tr>\n",
       "    <tr>\n",
       "      <th>83310</th>\n",
       "      <td>0</td>\n",
       "      <td>8000.00</td>\n",
       "      <td>0.00</td>\n",
       "      <td>9337.3400</td>\n",
       "      <td>1337.3400</td>\n",
       "      <td>-129.82</td>\n",
       "      <td>259.27</td>\n",
       "      <td>24505.0</td>\n",
       "      <td>36443.0</td>\n",
       "    </tr>\n",
       "    <tr>\n",
       "      <th>83317</th>\n",
       "      <td>0</td>\n",
       "      <td>2000.00</td>\n",
       "      <td>0.00</td>\n",
       "      <td>2083.6200</td>\n",
       "      <td>83.6200</td>\n",
       "      <td>-4.41</td>\n",
       "      <td>73.30</td>\n",
       "      <td>3746.0</td>\n",
       "      <td>4.0</td>\n",
       "    </tr>\n",
       "    <tr>\n",
       "      <th>83318</th>\n",
       "      <td>0</td>\n",
       "      <td>2500.00</td>\n",
       "      <td>0.00</td>\n",
       "      <td>2672.5800</td>\n",
       "      <td>172.5800</td>\n",
       "      <td>-6.54</td>\n",
       "      <td>101.25</td>\n",
       "      <td>7537.0</td>\n",
       "      <td>1109.0</td>\n",
       "    </tr>\n",
       "    <tr>\n",
       "      <th>83322</th>\n",
       "      <td>0</td>\n",
       "      <td>1997.16</td>\n",
       "      <td>0.00</td>\n",
       "      <td>2330.5500</td>\n",
       "      <td>333.3900</td>\n",
       "      <td>-30.05</td>\n",
       "      <td>65.57</td>\n",
       "      <td>6658.0</td>\n",
       "      <td>15743.0</td>\n",
       "    </tr>\n",
       "    <tr>\n",
       "      <th>83324</th>\n",
       "      <td>0</td>\n",
       "      <td>15000.00</td>\n",
       "      <td>0.00</td>\n",
       "      <td>21122.5600</td>\n",
       "      <td>6122.5600</td>\n",
       "      <td>-235.05</td>\n",
       "      <td>449.55</td>\n",
       "      <td>4137.0</td>\n",
       "      <td>11956.0</td>\n",
       "    </tr>\n",
       "  </tbody>\n",
       "</table>\n",
       "<p>28058 rows × 9 columns</p>\n",
       "</div>"
      ],
      "text/plain": [
       "       LoanCurrentDaysDelinquent  LP_CustomerPrincipalPayments  \\\n",
       "9                              3                         88.64   \n",
       "12                           140                        209.75   \n",
       "18                           193                        117.73   \n",
       "21                             0                       4000.00   \n",
       "22                             0                       4000.00   \n",
       "...                          ...                           ...   \n",
       "83310                          0                       8000.00   \n",
       "83317                          0                       2000.00   \n",
       "83318                          0                       2500.00   \n",
       "83322                          0                       1997.16   \n",
       "83324                          0                      15000.00   \n",
       "\n",
       "       LP_GrossPrincipalLoss  LP_CustomerPayments  LP_InterestandFees  \\\n",
       "9                       0.00             135.8174             47.1774   \n",
       "12                   3790.25             521.1300            311.3800   \n",
       "18                   1882.27             236.0100            118.2800   \n",
       "21                      0.00            4725.3500            725.3500   \n",
       "22                      0.00            4594.4800            594.4800   \n",
       "...                      ...                  ...                 ...   \n",
       "83310                   0.00            9337.3400           1337.3400   \n",
       "83317                   0.00            2083.6200             83.6200   \n",
       "83318                   0.00            2672.5800            172.5800   \n",
       "83322                   0.00            2330.5500            333.3900   \n",
       "83324                   0.00           21122.5600           6122.5600   \n",
       "\n",
       "       LP_ServiceFees  MonthlyLoanPayment  AvailableBankcardCredit  \\\n",
       "9               -3.40              137.39                   3626.0   \n",
       "12              -9.81              173.71                    178.0   \n",
       "18              -4.89               78.67                    607.0   \n",
       "21             -25.81              124.76                   3619.0   \n",
       "22             -64.62                0.00                  30794.0   \n",
       "...               ...                 ...                      ...   \n",
       "83310         -129.82              259.27                  24505.0   \n",
       "83317           -4.41               73.30                   3746.0   \n",
       "83318           -6.54              101.25                   7537.0   \n",
       "83322          -30.05               65.57                   6658.0   \n",
       "83324         -235.05              449.55                   4137.0   \n",
       "\n",
       "       RevolvingCreditBalance  \n",
       "9                      8624.0  \n",
       "12                     9103.0  \n",
       "18                     7975.0  \n",
       "21                     2033.0  \n",
       "22                     7246.0  \n",
       "...                       ...  \n",
       "83310                 36443.0  \n",
       "83317                     4.0  \n",
       "83318                  1109.0  \n",
       "83322                 15743.0  \n",
       "83324                 11956.0  \n",
       "\n",
       "[28058 rows x 9 columns]"
      ]
     },
     "execution_count": 79,
     "metadata": {},
     "output_type": "execute_result"
    }
   ],
   "source": [
    "X"
   ]
  },
  {
   "cell_type": "code",
   "execution_count": 75,
   "id": "5101c151-10ae-4f3c-acb5-5a66ab1851ab",
   "metadata": {},
   "outputs": [],
   "source": [
    "X.to_csv(\"X.csv\",index=False)\n",
    "y.to_csv(\"y.csv\",index=False)"
   ]
  },
  {
   "cell_type": "code",
   "execution_count": null,
   "id": "bb5bb06f-5036-4237-b5b8-bc0571e8229b",
   "metadata": {},
   "outputs": [],
   "source": []
  },
  {
   "cell_type": "code",
   "execution_count": 77,
   "id": "85432c98-0c89-4390-8145-47d449f063b0",
   "metadata": {},
   "outputs": [
    {
     "data": {
      "text/plain": [
       "9        0\n",
       "12       0\n",
       "18       0\n",
       "21       1\n",
       "22       1\n",
       "        ..\n",
       "83310    1\n",
       "83317    1\n",
       "83318    1\n",
       "83322    0\n",
       "83324    1\n",
       "Name: LoanStatus, Length: 28058, dtype: int64"
      ]
     },
     "execution_count": 77,
     "metadata": {},
     "output_type": "execute_result"
    }
   ],
   "source": [
    "y"
   ]
  },
  {
   "cell_type": "code",
   "execution_count": null,
   "id": "a943142f-11f5-44a7-a609-1329e927901f",
   "metadata": {},
   "outputs": [],
   "source": []
  }
 ],
 "metadata": {
  "kernelspec": {
   "display_name": "Python 3 (ipykernel)",
   "language": "python",
   "name": "python3"
  },
  "language_info": {
   "codemirror_mode": {
    "name": "ipython",
    "version": 3
   },
   "file_extension": ".py",
   "mimetype": "text/x-python",
   "name": "python",
   "nbconvert_exporter": "python",
   "pygments_lexer": "ipython3",
   "version": "3.8.13"
  }
 },
 "nbformat": 4,
 "nbformat_minor": 5
}
